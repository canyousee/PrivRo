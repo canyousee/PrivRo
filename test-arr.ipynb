{
 "cells": [
  {
   "cell_type": "code",
   "execution_count": 2,
   "metadata": {},
   "outputs": [],
   "source": [
    "from bitarray import bitarray\n",
    "import sys\n",
    "import os\n",
    "SCRIPT_DIR = os.path.dirname(os.path.abspath(\"/home/canyousee/CLionProjects/PAKE/KC-SPAKE2\"))\n",
    "sys.path.append(os.path.dirname(SCRIPT_DIR))\n",
    "import json\n",
    "from binascii import hexlify, unhexlify\n",
    "from hashlib import sha256\n",
    "import params\n",
    "import groups\n",
    "from params import _Params\n",
    "from ed25519_group import Ed25519Group\n",
    "import pandas as pd\n",
    "from bitarray.util import ba2base, base2ba, ba2int, int2ba\n",
    "import six\n",
    "from hashlib import sha256\n",
    "from itertools import count\n",
    "from pandas.core.frame import DataFrame\n",
    "import code\n",
    "import random\n",
    "import time\n",
    "import datetime\n",
    "import hashlib\n",
    "from random import randint\n",
    "from math import floor, log,ceil\n",
    "from scipy.spatial.distance import hamming\n",
    "import numpy as np"
   ]
  },
  {
   "cell_type": "code",
   "execution_count": 3,
   "metadata": {},
   "outputs": [],
   "source": [
    "def popcnt(x):\n",
    "    return bin(x).count('1')\n",
    "\n",
    "\n",
    "def dist(x, y):\n",
    "    return popcnt(x ^ y)\n",
    "\n",
    "\n",
    "def buildCovering(d, r):\n",
    "    A = {}\n",
    "    for v in range(1, 2**(r+1)):\n",
    "        A[v] = 0\n",
    "    for i in range(d):\n",
    "        m = randint(1, 2**(r+1)-1)\n",
    "\n",
    "        for v in range(1, 2**(r+1)):\n",
    "            A[v] = A[v] + (1 << i) * (popcnt(m & v) % 2)\n",
    "    return A\n",
    "\n",
    "\n",
    "def buildDataStructure(A, S, r):\n",
    "    D = {}\n",
    "    for x in S:\n",
    "        for v in range(1, 2**(r+1)):\n",
    "            if not (x & A[v]) in D:\n",
    "                D[x & A[v]] = set()\n",
    "            D[x & A[v]].add(x)\n",
    "    return D\n",
    "\n",
    "\n",
    "def nearestNeighbor(A, D, r, y):\n",
    "    infinity = float(\"inf\")\n",
    "    best, nn = infinity, None\n",
    "    for v in range(1, 2**(r+1)):\n",
    "        if (y & A[v]) in D:\n",
    "            for x in D[y & A[v]]:\n",
    "                if dist(x, y) < best:\n",
    "                    best, nn = dist(x, y), x\n",
    "\n",
    "        if best <= floor(log(v+1, 2)):\n",
    "            return nn\n",
    "    return None\n",
    "\n",
    "\n",
    "def generateLSH(A, D, r, y):\n",
    "    infinity = float(\"inf\")\n",
    "    result = set()\n",
    "    best, nn = infinity, None\n",
    "    for v in range(1, 2**(r+1)):\n",
    "        if (y & A[v]) in D:\n",
    "            result.add(y&A[v])\n",
    "    return result\n",
    "        \n",
    "\n",
    "\n",
    "def split_list(a_list, test):\n",
    "    point = int(len(a_list)*test)\n",
    "    return a_list[:point], a_list[point:]\n"
   ]
  },
  {
   "cell_type": "code",
   "execution_count": 4,
   "metadata": {},
   "outputs": [],
   "source": [
    "df_random=pd.read_csv(\"/home/canyousee/CLionProjects/CIKM-exper/random.csv\")\n",
    "\n",
    "df_train=pd.read_csv(\"/home/canyousee/CLionProjects/CIKM-exper/train.csv\")\n",
    "\n",
    "df_plain=pd.read_csv(\"/home/canyousee/CLionProjects/CIKM-exper/plain.csv\")\n",
    "\n",
    "dff = pd.read_csv(\n",
    "    \"/home/canyousee/CLionProjects/CIKM-exper/Data-profile-source/8000-adult.csv\")"
   ]
  },
  {
   "cell_type": "code",
   "execution_count": 5,
   "metadata": {},
   "outputs": [],
   "source": [
    "df_random=df_random.drop(columns=['order'])\n",
    "df_train=df_train.drop(columns=['order'])"
   ]
  },
  {
   "cell_type": "code",
   "execution_count": 6,
   "metadata": {},
   "outputs": [],
   "source": [
    "df_plain=df_plain.drop(columns=['ID'])\n",
    "df_plain.replace('set()',0,inplace=True)"
   ]
  },
  {
   "cell_type": "code",
   "execution_count": 202,
   "metadata": {},
   "outputs": [],
   "source": [
    "# bitArr = []\n",
    "# intArr = []\n",
    "# ID=[]\n",
    "# for i in range(0, len(dataSet)):\n",
    "#     s = bitarray(512)\n",
    "#     s[:] = 0\n",
    "#     s[dataSet[i][1]] = 1\n",
    "#     s[91+dataSet[i][2]] = 1\n",
    "#     s[101+dataSet[i][3]] = 1\n",
    "#     s[192+dataSet[i][4]] = 1\n",
    "#     s[208+dataSet[i][5]] = 1\n",
    "#     s[215+dataSet[i][6]] = 1\n",
    "#     s[229+dataSet[i][7]] = 1\n",
    "#     s[235+dataSet[i][8]] = 1\n",
    "#     s[240+dataSet[i][9]] = 1\n",
    "#     s[242+dataSet[i][10]] = 1\n",
    "#     s[252+dataSet[i][11]] = 1\n",
    "#     s[256+dataSet[i][12]]=1\n",
    "#     s[356+dataSet[i][13]]=1\n",
    " \n",
    "\n",
    "#     ID.append(dataSet[i][0])\n",
    "#     intArr.append(ba2int(s))\n",
    "#     bitArr.append(s.to01())\n",
    "\n",
    "# df_bin = pd.DataFrame(ID, columns=['ID'])\n",
    "# df_bin[\"int\"] = intArr\n",
    "# df_bin[\"vector\"]=bitArr\n",
    "# df_bin.to_csv(\"8000-adult.csv\")"
   ]
  },
  {
   "cell_type": "code",
   "execution_count": 7,
   "metadata": {},
   "outputs": [],
   "source": [
    "dff_set=pd.read_csv(\"/home/canyousee/CLionProjects/CIKM-exper/Data-profile-vector/8000-adult.csv\")"
   ]
  },
  {
   "cell_type": "code",
   "execution_count": 8,
   "metadata": {},
   "outputs": [],
   "source": [
    "dataSet= []\n",
    "for i in range(0, dff_set.shape[0]):\n",
    "    dataSet.append(int(dff_set.iloc[i,2]))"
   ]
  },
  {
   "cell_type": "code",
   "execution_count": 205,
   "metadata": {},
   "outputs": [
    {
     "name": "stdout",
     "output_type": "stream",
     "text": [
      "12786682062094304179739191486143069370074498272330497396351786563005943447724061478367457737875330095156255783665754865259388573693277741016267358208\n"
     ]
    }
   ],
   "source": [
    "print(dataSet[1])"
   ]
  },
  {
   "cell_type": "code",
   "execution_count": 9,
   "metadata": {},
   "outputs": [],
   "source": [
    "r = 9 # radius\n",
    "d = 512  # dimen of vector\n",
    "   \n",
    "A =buildCovering(d, r)\n",
    "D =buildDataStructure(A,dataSet,r)"
   ]
  },
  {
   "cell_type": "code",
   "execution_count": 273,
   "metadata": {},
   "outputs": [
    {
     "name": "stdout",
     "output_type": "stream",
     "text": [
      "True\n"
     ]
    }
   ],
   "source": [
    "ff=set()\n",
    "print(len(ff)==0)"
   ]
  },
  {
   "cell_type": "code",
   "execution_count": 284,
   "metadata": {},
   "outputs": [
    {
     "data": {
      "text/plain": [
       "True"
      ]
     },
     "execution_count": 284,
     "metadata": {},
     "output_type": "execute_result"
    }
   ],
   "source": [
    "df_plain.iloc[0,300]==0"
   ]
  },
  {
   "cell_type": "code",
   "execution_count": 285,
   "metadata": {},
   "outputs": [
    {
     "ename": "IndexError",
     "evalue": "list index out of range",
     "output_type": "error",
     "traceback": [
      "\u001b[0;31m---------------------------------------------------------------------------\u001b[0m",
      "\u001b[0;31mIndexError\u001b[0m                                Traceback (most recent call last)",
      "\u001b[1;32m/home/canyousee/CLionProjects/CIKM-exper/test-arr.ipynb Cell 13'\u001b[0m in \u001b[0;36m<cell line: 8>\u001b[0;34m()\u001b[0m\n\u001b[1;32m     <a href='vscode-notebook-cell:/home/canyousee/CLionProjects/CIKM-exper/test-arr.ipynb#ch0000050?line=23'>24</a>\u001b[0m     \u001b[39mif\u001b[39;00m(\u001b[39mlen\u001b[39m(y2)\u001b[39m!=\u001b[39m\u001b[39m0\u001b[39m):\n\u001b[1;32m     <a href='vscode-notebook-cell:/home/canyousee/CLionProjects/CIKM-exper/test-arr.ipynb#ch0000050?line=24'>25</a>\u001b[0m         y\u001b[39m=\u001b[39m\u001b[39mlen\u001b[39m(y1\u001b[39m&\u001b[39my2)\n\u001b[0;32m---> <a href='vscode-notebook-cell:/home/canyousee/CLionProjects/CIKM-exper/test-arr.ipynb#ch0000050?line=25'>26</a>\u001b[0m         \u001b[39mif\u001b[39;00m(y\u001b[39m>\u001b[39m\u001b[39m=\u001b[39mdi[p]):\n\u001b[1;32m     <a href='vscode-notebook-cell:/home/canyousee/CLionProjects/CIKM-exper/test-arr.ipynb#ch0000050?line=26'>27</a>\u001b[0m             tempys\u001b[39m.\u001b[39madd(df_train\u001b[39m.\u001b[39miloc[j,\u001b[39m2\u001b[39m])  \n\u001b[1;32m     <a href='vscode-notebook-cell:/home/canyousee/CLionProjects/CIKM-exper/test-arr.ipynb#ch0000050?line=28'>29</a>\u001b[0m temp1\u001b[39m=\u001b[39m\u001b[39m6400\u001b[39m\u001b[39m-\u001b[39m\u001b[39mlen\u001b[39m(tempxs\u001b[39m|\u001b[39mtempys) \u001b[39m#tn\u001b[39;00m\n",
      "\u001b[0;31mIndexError\u001b[0m: list index out of range"
     ]
    }
   ],
   "source": [
    "tp_all=[]\n",
    "fp_all=[]\n",
    "fn_all=[]\n",
    "tn_all=[]\n",
    "recall_all=[]\n",
    "precision_all=[]\n",
    "di=[255,63,15,1,0]\n",
    "for p in range(0,6):\n",
    "    tp=[]\n",
    "    fp=[]\n",
    "    fn=[]\n",
    "    tn=[]\n",
    "    recall=[]\n",
    "    precision=[]\n",
    "    for h in range(0,100):\n",
    "        if(df_plain.iloc[p,h]!=0):\n",
    "            testset=[int(x) for x in df_plain.iloc[p,h][1:-1].split(\",\")]\n",
    "            tempxs=set(testset)\n",
    "            tempys=set()\n",
    "            y1=generateLSH(A, D, r, int(df_random.iloc[h,3]))\n",
    "            for j in range(0,df_train.shape[0]):\n",
    "                y2=generateLSH(A,D,r,int(df_train.iloc[j,3]))\n",
    "                if(len(y2)!=0):\n",
    "                    y=len(y1&y2)\n",
    "                    if(y>=di[p]):\n",
    "                        tempys.add(df_train.iloc[j,2])  \n",
    "                    \n",
    "            temp1=6400-len(tempxs|tempys) #tn\n",
    "            temp2=len(tempxs&tempys) # tp\n",
    "            temp3=len(tempxs-tempys) # fn\n",
    "            temp4=len(tempys-tempxs) # fp\n",
    "            tp.append(temp2)\n",
    "            fp.append(temp4)\n",
    "            fn.append(temp3)\n",
    "            tn.append(temp1)\n",
    "            #recall.append(temp2/(temp2+temp3))\n",
    "            #precision.append(temp2/(temp2+temp4))\n",
    "    tp_all.append(tp)\n",
    "    fp_all.append(fp)\n",
    "    fn_all.append(fn)\n",
    "    tn_all.append(tn)\n",
    "    #recall_all.append(recall)\n",
    "    #precision_all.append(precision)"
   ]
  },
  {
   "cell_type": "code",
   "execution_count": 10,
   "metadata": {},
   "outputs": [],
   "source": [
    "tp=[]\n",
    "fp=[]\n",
    "fn=[]\n",
    "tn=[]\n",
    "recall=[]\n",
    "precision=[]\n",
    "di=[255,63,15,15,15,15]\n",
    "p=3\n",
    "for h in range(0,50):\n",
    "    if(df_plain.iloc[p,h]!=0):\n",
    "        testset=[int(x) for x in df_plain.iloc[p,h][1:-1].split(\",\")]\n",
    "        tempxs=set(testset)\n",
    "        tempys=set()\n",
    "        y1=generateLSH(A, D, r, int(df_random.iloc[h,3]))\n",
    "        for j in range(0,df_train.shape[0]):\n",
    "            y2=generateLSH(A,D,r,int(df_train.iloc[j,3]))\n",
    "            if(len(y2)!=0):\n",
    "                y=len(y1&y2)\n",
    "                if(y>=di[p]):\n",
    "                    tempys.add(df_train.iloc[j,2])  \n",
    "                \n",
    "        temp1=6400-len(tempxs|tempys) #tn\n",
    "        temp2=len(tempxs&tempys) # tp\n",
    "        temp3=len(tempxs-tempys) # fn\n",
    "        temp4=len(tempys-tempxs) # fp\n",
    "        tp.append(temp2)\n",
    "        fp.append(temp4)\n",
    "        fn.append(temp3)\n",
    "        tn.append(temp1)"
   ]
  },
  {
   "cell_type": "code",
   "execution_count": 14,
   "metadata": {},
   "outputs": [
    {
     "name": "stdout",
     "output_type": "stream",
     "text": [
      "241 10\n",
      "42 165\n",
      "555 58\n",
      "13 8\n",
      "25 3\n",
      "44 0\n",
      "34 62\n",
      "153 7\n",
      "732 25\n",
      "2 3\n",
      "343 62\n",
      "106 6\n",
      "227 4\n",
      "50 6\n",
      "24 0\n",
      "221 24\n",
      "1 0\n",
      "198 10\n",
      "45 8\n",
      "0 1\n",
      "0 0\n",
      "62 5\n",
      "93 13\n",
      "7 2\n",
      "49 7\n",
      "9 1\n",
      "64 3\n",
      "191 47\n",
      "32 2\n",
      "68 5\n",
      "6 0\n",
      "18 0\n",
      "15 32\n",
      "1 0\n",
      "86 3\n",
      "216 44\n",
      "12 41\n",
      "0 0\n",
      "17 2\n",
      "43 3\n",
      "421 19\n",
      "21 1\n",
      "56 2\n",
      "15 0\n",
      "93 2\n",
      "60 2\n",
      "8 1\n",
      "42 9\n"
     ]
    }
   ],
   "source": [
    "for j in range(0,len(tp)):\n",
    "    print(tp[j],fp[j])"
   ]
  },
  {
   "cell_type": "code",
   "execution_count": 15,
   "metadata": {},
   "outputs": [],
   "source": [
    "re=[]\n",
    "pre=[]\n",
    "for j in range(0,len(tp)):\n",
    "        tem=tp[j]+fn[j]\n",
    "        recall=tp[j]/tem\n",
    "        if(tp[j]==0 and fp[j]==0):\n",
    "                continue\n",
    "        tem2= tp[j]+fp[j]\n",
    "        precision=tp[j]/tem2\n",
    "        re.append(recall)\n",
    "        pre.append(precision)"
   ]
  },
  {
   "cell_type": "code",
   "execution_count": 16,
   "metadata": {},
   "outputs": [
    {
     "name": "stdout",
     "output_type": "stream",
     "text": [
      "[0.4772277227722772, 0.9545454545454546, 0.9053833605220228, 0.20634920634920634, 0.78125, 0.15172413793103448, 0.20238095238095238, 0.4811320754716981, 0.7721518987341772, 0.3333333333333333, 0.6435272045028143, 0.6057142857142858, 0.47789473684210526, 0.4854368932038835, 0.27906976744186046, 0.8215613382899628, 1.0, 0.5577464788732395, 0.45918367346938777, 0.0, 0.30097087378640774, 0.5502958579881657, 0.4117647058823529, 0.7101449275362319, 0.23076923076923078, 0.21476510067114093, 0.8488888888888889, 0.5423728813559322, 0.6666666666666666, 0.15789473684210525, 0.6, 1.0, 0.1111111111111111, 0.7107438016528925, 0.833976833976834, 0.9230769230769231, 0.20481927710843373, 0.22872340425531915, 0.5152998776009792, 0.3181818181818182, 0.3128491620111732, 0.15, 0.23425692695214106, 0.3508771929824561, 0.23529411764705882, 0.20388349514563106]\n"
     ]
    }
   ],
   "source": [
    "print(re)"
   ]
  },
  {
   "cell_type": "code",
   "execution_count": 19,
   "metadata": {},
   "outputs": [
    {
     "name": "stdout",
     "output_type": "stream",
     "text": [
      "0.05818203038931988\n",
      "0.8331241808330685\n"
     ]
    }
   ],
   "source": [
    "a=pre\n",
    "b=np.var(a)\n",
    "c=np.mean(a)\n",
    "print(b)\n",
    "print(c)"
   ]
  },
  {
   "cell_type": "code",
   "execution_count": 12,
   "metadata": {},
   "outputs": [
    {
     "ename": "NameError",
     "evalue": "name 'tp_all' is not defined",
     "output_type": "error",
     "traceback": [
      "\u001b[0;31m---------------------------------------------------------------------------\u001b[0m",
      "\u001b[0;31mNameError\u001b[0m                                 Traceback (most recent call last)",
      "\u001b[1;32m/home/canyousee/CLionProjects/CIKM-exper/test-arr.ipynb Cell 19'\u001b[0m in \u001b[0;36m<cell line: 3>\u001b[0;34m()\u001b[0m\n\u001b[1;32m      <a href='vscode-notebook-cell:/home/canyousee/CLionProjects/CIKM-exper/test-arr.ipynb#ch0000017?line=0'>1</a>\u001b[0m i\u001b[39m=\u001b[39m\u001b[39m1\u001b[39m\n\u001b[1;32m      <a href='vscode-notebook-cell:/home/canyousee/CLionProjects/CIKM-exper/test-arr.ipynb#ch0000017?line=1'>2</a>\u001b[0m j\u001b[39m=\u001b[39m\u001b[39m35\u001b[39m\n\u001b[0;32m----> <a href='vscode-notebook-cell:/home/canyousee/CLionProjects/CIKM-exper/test-arr.ipynb#ch0000017?line=2'>3</a>\u001b[0m \u001b[39mprint\u001b[39m(tp_all[i][j])\n\u001b[1;32m      <a href='vscode-notebook-cell:/home/canyousee/CLionProjects/CIKM-exper/test-arr.ipynb#ch0000017?line=3'>4</a>\u001b[0m tem2\u001b[39m=\u001b[39m tp_all[i][j]\u001b[39m+\u001b[39mfp_all[i][j]\n\u001b[1;32m      <a href='vscode-notebook-cell:/home/canyousee/CLionProjects/CIKM-exper/test-arr.ipynb#ch0000017?line=5'>6</a>\u001b[0m \u001b[39mif\u001b[39;00m tp_all[i][j]\u001b[39m/\u001b[39mtem2\u001b[39m==\u001b[39m\u001b[39m0\u001b[39m:\n",
      "\u001b[0;31mNameError\u001b[0m: name 'tp_all' is not defined"
     ]
    }
   ],
   "source": [
    "i=1\n",
    "j=35\n",
    "print(tp_all[i][j])\n",
    "tem2= tp_all[i][j]+fp_all[i][j]\n",
    "\n",
    "if tp_all[i][j]/tem2==0:\n",
    "        print(j,tem2)\n"
   ]
  },
  {
   "cell_type": "code",
   "execution_count": 330,
   "metadata": {},
   "outputs": [],
   "source": [
    "recall_all=[]\n",
    "precision_all=[]\n",
    "for i in range(0,5):\n",
    "    al=len(tp_all[0])\n",
    "    re=[]\n",
    "    pre=[]\n",
    "    for j in range(0,len(tp_all[i])):\n",
    "        tem=tp_all[i][j]+fn_all[i][j]\n",
    "        recall=tp_all[i][j]/tem\n",
    "        tem2= tp_all[i][j]+fp_all[i][j]\n",
    "        precision=tp_all[i][j]/tem2\n",
    "        re.append(recall)\n",
    "        pre.append(pre)\n",
    "    recall_all.append(re)\n",
    "    precision_all.append(pre)"
   ]
  },
  {
   "cell_type": "code",
   "execution_count": 331,
   "metadata": {},
   "outputs": [
    {
     "name": "stdout",
     "output_type": "stream",
     "text": [
      "[[1.0, 1.0, 1.0, 1.0, 1.0, 1.0, 1.0, 1.0, 1.0, 1.0, 1.0, 1.0], [1.0, 1.0, 1.0, 0.8, 1.0, 1.0, 1.0, 1.0, 1.0, 1.0, 1.0, 1.0, 1.0, 1.0, 1.0, 1.0, 1.0, 1.0, 1.0, 1.0, 0.8, 1.0, 1.0, 1.0, 1.0, 1.0, 1.0, 1.0, 1.0, 1.0, 1.0, 1.0, 1.0, 1.0, 1.0, 0.5, 1.0, 1.0, 1.0, 1.0, 1.0, 1.0, 1.0, 1.0, 1.0, 1.0, 1.0, 1.0, 1.0, 1.0, 1.0, 1.0, 1.0, 1.0, 1.0, 1.0], [1.0, 1.0, 1.0, 1.0, 1.0, 1.0, 1.0, 1.0, 1.0, 1.0, 1.0, 1.0, 1.0, 1.0, 1.0, 1.0, 1.0, 1.0, 1.0, 1.0, 1.0, 1.0, 1.0, 1.0, 1.0, 1.0, 1.0, 1.0, 1.0, 1.0, 1.0, 1.0, 1.0, 1.0, 1.0, 1.0, 1.0, 1.0, 0.9555555555555556, 1.0, 1.0, 1.0, 1.0, 1.0, 1.0, 1.0, 1.0, 1.0, 1.0, 1.0, 1.0, 1.0, 1.0, 1.0, 1.0, 1.0, 1.0, 1.0, 1.0, 1.0, 1.0, 1.0, 1.0, 1.0, 1.0, 1.0, 1.0, 1.0, 1.0, 1.0, 1.0, 1.0, 1.0, 1.0, 1.0, 1.0, 1.0, 1.0, 1.0, 1.0, 1.0, 1.0, 1.0, 1.0, 1.0, 1.0, 1.0], [1.0, 1.0, 1.0, 1.0, 1.0, 1.0, 1.0, 1.0, 1.0, 1.0, 1.0, 1.0, 1.0, 1.0, 1.0, 1.0, 1.0, 1.0, 1.0, 1.0, 1.0, 1.0, 1.0, 1.0, 1.0, 1.0, 1.0, 1.0, 1.0, 1.0, 1.0, 1.0, 1.0, 1.0, 1.0, 1.0, 1.0, 1.0, 1.0, 1.0, 1.0, 1.0, 1.0, 1.0, 1.0, 1.0, 1.0, 1.0, 1.0, 1.0, 1.0, 1.0, 1.0, 1.0, 1.0, 1.0, 1.0, 1.0, 1.0, 1.0, 1.0, 1.0, 1.0, 1.0, 1.0, 1.0, 1.0, 1.0, 1.0, 1.0, 1.0, 1.0, 1.0, 1.0, 1.0, 1.0, 1.0, 1.0, 1.0, 1.0, 1.0, 1.0, 1.0, 1.0, 1.0, 1.0, 1.0, 1.0, 1.0, 1.0, 1.0, 1.0, 1.0, 1.0, 1.0, 1.0, 1.0, 1.0], [1.0, 1.0, 1.0, 1.0, 1.0, 1.0, 1.0, 1.0, 1.0, 1.0, 1.0, 1.0, 1.0, 1.0, 1.0, 1.0, 1.0, 1.0, 1.0, 1.0, 1.0, 1.0, 1.0, 1.0, 1.0, 1.0, 1.0, 1.0, 1.0, 1.0, 1.0, 1.0, 1.0, 1.0, 1.0, 1.0, 1.0, 1.0, 1.0, 1.0, 1.0, 1.0, 1.0, 1.0, 1.0, 1.0, 1.0, 1.0, 1.0, 1.0, 1.0, 1.0, 1.0, 1.0, 1.0, 1.0, 1.0, 1.0, 1.0, 1.0, 1.0, 1.0, 1.0, 1.0, 1.0, 1.0, 1.0, 1.0, 1.0, 1.0, 1.0, 1.0, 1.0, 1.0, 1.0, 1.0, 1.0, 1.0, 1.0, 1.0, 1.0, 1.0, 1.0, 1.0, 1.0, 1.0, 1.0, 1.0, 1.0, 1.0, 1.0, 1.0, 1.0, 1.0, 1.0, 1.0, 1.0, 1.0, 1.0, 1.0]]\n",
      "[[[...], [...], [...], [...], [...], [...], [...], [...], [...], [...], [...], [...]], [[...], [...], [...], [...], [...], [...], [...], [...], [...], [...], [...], [...], [...], [...], [...], [...], [...], [...], [...], [...], [...], [...], [...], [...], [...], [...], [...], [...], [...], [...], [...], [...], [...], [...], [...], [...], [...], [...], [...], [...], [...], [...], [...], [...], [...], [...], [...], [...], [...], [...], [...], [...], [...], [...], [...], [...]], [[...], [...], [...], [...], [...], [...], [...], [...], [...], [...], [...], [...], [...], [...], [...], [...], [...], [...], [...], [...], [...], [...], [...], [...], [...], [...], [...], [...], [...], [...], [...], [...], [...], [...], [...], [...], [...], [...], [...], [...], [...], [...], [...], [...], [...], [...], [...], [...], [...], [...], [...], [...], [...], [...], [...], [...], [...], [...], [...], [...], [...], [...], [...], [...], [...], [...], [...], [...], [...], [...], [...], [...], [...], [...], [...], [...], [...], [...], [...], [...], [...], [...], [...], [...], [...], [...], [...]], [[...], [...], [...], [...], [...], [...], [...], [...], [...], [...], [...], [...], [...], [...], [...], [...], [...], [...], [...], [...], [...], [...], [...], [...], [...], [...], [...], [...], [...], [...], [...], [...], [...], [...], [...], [...], [...], [...], [...], [...], [...], [...], [...], [...], [...], [...], [...], [...], [...], [...], [...], [...], [...], [...], [...], [...], [...], [...], [...], [...], [...], [...], [...], [...], [...], [...], [...], [...], [...], [...], [...], [...], [...], [...], [...], [...], [...], [...], [...], [...], [...], [...], [...], [...], [...], [...], [...], [...], [...], [...], [...], [...], [...], [...], [...], [...], [...], [...]], [[...], [...], [...], [...], [...], [...], [...], [...], [...], [...], [...], [...], [...], [...], [...], [...], [...], [...], [...], [...], [...], [...], [...], [...], [...], [...], [...], [...], [...], [...], [...], [...], [...], [...], [...], [...], [...], [...], [...], [...], [...], [...], [...], [...], [...], [...], [...], [...], [...], [...], [...], [...], [...], [...], [...], [...], [...], [...], [...], [...], [...], [...], [...], [...], [...], [...], [...], [...], [...], [...], [...], [...], [...], [...], [...], [...], [...], [...], [...], [...], [...], [...], [...], [...], [...], [...], [...], [...], [...], [...], [...], [...], [...], [...], [...], [...], [...], [...], [...], [...]]]\n"
     ]
    }
   ],
   "source": [
    "print(recall_all)\n",
    "print(precision_all)"
   ]
  },
  {
   "cell_type": "code",
   "execution_count": 264,
   "metadata": {},
   "outputs": [
    {
     "name": "stdout",
     "output_type": "stream",
     "text": [
      "{25576}\n"
     ]
    }
   ],
   "source": [
    "testset=[int(x) for x in df_plain.iloc[0,1599][1:-1].split(\",\")]\n",
    "testset=set(testset)\n",
    "print(testset)"
   ]
  },
  {
   "cell_type": "code",
   "execution_count": 265,
   "metadata": {},
   "outputs": [
    {
     "name": "stdout",
     "output_type": "stream",
     "text": [
      "17297\n"
     ]
    }
   ],
   "source": [
    "result=set()\n",
    "k=1599\n",
    "print(df_random.iloc[k,2])\n",
    "y1=generateLSH(A, D, r, int(df_random.iloc[k,3]))\n",
    "for j in range(0,df_train.shape[0]):\n",
    "    y2=generateLSH(A,D,r,int(df_train.iloc[j,3]))\n",
    "    y=len(y1&y2)\n",
    "    if(y>=1):\n",
    "        result.add(df_train.iloc[j,2])  "
   ]
  },
  {
   "cell_type": "code",
   "execution_count": 266,
   "metadata": {},
   "outputs": [
    {
     "name": "stdout",
     "output_type": "stream",
     "text": [
      "[255]\n",
      "True\n"
     ]
    }
   ],
   "source": [
    "id_hash=[]\n",
    "for id in testset:\n",
    "    y2=generateLSH(A,D,r,int(df_train[df_train['ID']==id].iloc[0,3]))\n",
    "\n",
    "    id_hash.append(len(y1&y2))\n",
    "print(id_hash)\n",
    "print(testset&result==testset)"
   ]
  },
  {
   "cell_type": "code",
   "execution_count": null,
   "metadata": {},
   "outputs": [],
   "source": [
    "random_test_lsh_results=[]\n",
    "count=0\n",
    "for k in range(0,df_random.shape[0]):\n",
    "    result=set()\n",
    "    y1=generateLSH(A, D, r, int(df_random.iloc[k,3]))\n",
    "    \n",
    "    for j in range(0,df_train.shape[0]):\n",
    "            y2=generateLSH(A,D,r,int(df_train.iloc[j,3]))\n",
    "            y=len(y1&y2)\n",
    "            if(y>=50):\n",
    "                result.add(df_train.iloc[j,2])               \n",
    "    random_test_lsh_results.append(result)\n"
   ]
  },
  {
   "cell_type": "code",
   "execution_count": 115,
   "metadata": {},
   "outputs": [],
   "source": [
    "result_all_lsh=[]\n",
    "for p in range(1,13):\n",
    "    random_test_lsh_results=[]\n",
    "    for k in range(0,df_random.shape[0]):\n",
    "        result=set()\n",
    "        y1=generateLSH(A, D, r, int(df_random.iloc[k,3]))\n",
    "        for j in range(0,df_train.shape[0]):\n",
    "                y2=generateLSH(A,D,r,int(df_train.iloc[j,3]))\n",
    "                y=len(y1&y2)\n",
    "                if(y>):\n",
    "                  result.add(df_train.iloc[j,3])      \n",
    "        random_test_lsh_results.append(result)\n",
    "    result_all_lsh.append(random_test_lsh_results)"
   ]
  },
  {
   "cell_type": "code",
   "execution_count": 157,
   "metadata": {},
   "outputs": [],
   "source": [
    "result_alllsh_pd=pd.DataFrame(result_all_lsh)\n",
    "result_alllsh_pd.to_csv(\"lsh_withalldata.csv\")"
   ]
  },
  {
   "cell_type": "code",
   "execution_count": 163,
   "metadata": {},
   "outputs": [],
   "source": [
    "df_all_lsh=pd.read_csv(\"lsh_withalldata.csv\")"
   ]
  },
  {
   "cell_type": "code",
   "execution_count": 141,
   "metadata": {},
   "outputs": [],
   "source": [
    "result_all_lsh=[]\n",
    "for p in range(1,13):\n",
    "    random_test_lsh_results=[]\n",
    "    for k in range(0,df_random.shape[0]):\n",
    "        result=set()\n",
    "        y1=generateLSH(A, D, r, int(df_random.iloc[k,3]))\n",
    "        for j in range(0,df_set.shape[0]):\n",
    "                y2=generateLSH(A,D,r,int(df_set.iloc[j,2]))\n",
    "                if(y1==y2):\n",
    "                  result.add(df_set.iloc[j,1])      \n",
    "        random_test_lsh_results.append(result)\n",
    "    result_all_lsh.append(random_test_lsh_results)"
   ]
  },
  {
   "cell_type": "code",
   "execution_count": 142,
   "metadata": {},
   "outputs": [],
   "source": [
    "result_alllsh_pd=pd.DataFrame(result_all_lsh)\n",
    "result_alllsh_pd.to_csv(\"lsh_withalldata_all.csv\")"
   ]
  },
  {
   "cell_type": "code",
   "execution_count": 143,
   "metadata": {},
   "outputs": [],
   "source": [
    "df_all_lsh_all=pd.read_csv(\"lsh_withalldata_all.csv\")"
   ]
  },
  {
   "cell_type": "code",
   "execution_count": null,
   "metadata": {},
   "outputs": [],
   "source": []
  },
  {
   "cell_type": "code",
   "execution_count": 11,
   "metadata": {},
   "outputs": [
    {
     "name": "stdout",
     "output_type": "stream",
     "text": [
      "level_0                                                 5788\n",
      "index                                                   5788\n",
      "ID                                                     17009\n",
      "int        6393341031047152089869680356944416129127154323...\n",
      "vector     0000000000000000000010000000000000000000000000...\n",
      "Name: 0, dtype: object\n"
     ]
    }
   ],
   "source": [
    "k=0\n",
    "p=3\n",
    "print(df_random.iloc[k,])\n",
    "plaintemp=dff[dff['ID']==df_random.iloc[k,2]].iloc[0,1:]\n",
    "result=set()\n",
    "for i in range(0,df_train.shape[0]):\n",
    "        plaintemp2=dff[dff['ID']==df_train.iloc[i,2]].iloc[0,1:]\n",
    "        disti=hamming(plaintemp,plaintemp2)*13\n",
    "        if(disti<=p):\n",
    "            result.add(df_train.iloc[i,2])   \n"
   ]
  },
  {
   "cell_type": "code",
   "execution_count": 20,
   "metadata": {},
   "outputs": [],
   "source": [
    "result=set()\n",
    "y1=generateLSH(A, D, r, int(df_random.iloc[k,3]))\n",
    "for j in range(0,df_train.shape[0]):\n",
    "        y2=generateLSH(A,D,r,int(df_train.iloc[j,3]))\n",
    "        if(y1==y2):\n",
    "            result.add(df_train.iloc[j,2])      \n"
   ]
  },
  {
   "cell_type": "code",
   "execution_count": 21,
   "metadata": {},
   "outputs": [
    {
     "name": "stdout",
     "output_type": "stream",
     "text": [
      "{13011}\n"
     ]
    }
   ],
   "source": [
    "print(result)"
   ]
  },
  {
   "cell_type": "code",
   "execution_count": 140,
   "metadata": {},
   "outputs": [],
   "source": [
    "result_all_lsh=[]\n",
    "for p in range(1,13):\n",
    "    random_test_lsh_results=[]\n",
    "    for k in range(0,df_random.shape[0]):\n",
    "        result=set()\n",
    "        y1=generateLSH(A, D, r, int(df_random.iloc[k,3]))\n",
    "        for j in range(0,df_train.shape[0]):\n",
    "                y2=generateLSH(A,D,r,int(df_train.iloc[j,3]))\n",
    "                if(y1==y2):\n",
    "                  result.add(df_train.iloc[j,2])      \n",
    "        random_test_lsh_results.append(result)\n",
    "    result_all_lsh.append(random_test_lsh_results)"
   ]
  },
  {
   "cell_type": "code",
   "execution_count": 141,
   "metadata": {},
   "outputs": [],
   "source": [
    "result_alllsh_pd=pd.DataFrame(result_all_lsh)\n",
    "result_alllsh_pd.to_csv(\"lsh.csv\")"
   ]
  },
  {
   "cell_type": "code",
   "execution_count": 6,
   "metadata": {},
   "outputs": [],
   "source": [
    "result_alllsh_pd=pd.read_csv(\"lsh.csv\")\n"
   ]
  },
  {
   "cell_type": "code",
   "execution_count": 7,
   "metadata": {},
   "outputs": [],
   "source": [
    "result_alllsh_pd=result_alllsh_pd.drop(columns=['ID'])\n",
    "df_plain=df_plain.drop(columns=['ID'])\n",
    "df_plain.replace('set()',0,inplace=True)"
   ]
  },
  {
   "cell_type": "code",
   "execution_count": 8,
   "metadata": {},
   "outputs": [],
   "source": [
    "df_plain=df_plain.drop(columns=['ID'])"
   ]
  },
  {
   "cell_type": "code",
   "execution_count": 11,
   "metadata": {},
   "outputs": [],
   "source": [
    "df_plain.replace('set()',0,inplace=True)\n",
    "result_alllsh_pd.replace('set()',0,inplace=True)"
   ]
  },
  {
   "cell_type": "code",
   "execution_count": 13,
   "metadata": {},
   "outputs": [],
   "source": [
    "\n",
    "recall_all=[]\n",
    "precision_all=[]\n",
    "\n",
    "for p in range(0,12):\n",
    "    tp=[]\n",
    "    fp=[]\n",
    "    fn=[]\n",
    "    tn=[]\n",
    "    recall=[]\n",
    "    precision=[]\n",
    "    for i in range(0,df_random.shape[0]):\n",
    "        if(df_plain.iloc[p,i]!=0 and result_alllsh_pd.iloc[p,i]!=0):\n",
    "            tempx=[int(x) for x in df_plain.iloc[p,i][1:-1].split(\",\")]\n",
    "            tempxs=set(tempx)\n",
    "\n",
    "            tempy=[int(x) for x in result_alllsh_pd.iloc[p,i][1:-1].split(\",\")]\n",
    "            tempys=set(tempy)\n",
    "\n",
    "            #print(\"plain\",tempxs)\n",
    "            #print(\"result\",tempys)\n",
    "            temp1=6400-len(tempxs|tempys) #tn\n",
    "            temp2=len(tempxs&tempys) # tp\n",
    "            temp3=len(tempxs-tempys) # fn\n",
    "            temp4=len(tempys-tempxs) # fp\n",
    "            tp.append(temp2)\n",
    "            fp.append(temp4)\n",
    "            fn.append(temp3)\n",
    "            tn.append(temp1)\n",
    "            recall.append(temp2/(temp2+temp3))\n",
    "            precision.append(temp2/(temp2+temp4))\n",
    "    recall_all.append(recall)\n",
    "    precision_all.append(precision)\n",
    "\n",
    "\n",
    "\n"
   ]
  },
  {
   "cell_type": "code",
   "execution_count": 22,
   "metadata": {},
   "outputs": [
    {
     "name": "stdout",
     "output_type": "stream",
     "text": [
      "0.162761466352013 0.6727887554500458\n",
      "0.1033614928839701 0.3642350634138221\n",
      "0.02992594702075325 0.14601769462890127\n",
      "0.006370014953143769 0.05689370334170711\n",
      "0.0009915124849907107 0.022016969864820372\n",
      "0.00015373448992720331 0.009218208460740148\n",
      "5.217891916161544e-05 0.005324022044015981\n",
      "2.7327712382135196e-05 0.0037169659400743443\n",
      "2.0012933624069718e-05 0.003120236004037052\n",
      "1.829677406612699e-05 0.002961313840532364\n",
      "1.803501637568629e-05 0.002934849743299574\n",
      "1.8014121764301052e-05 0.0029327200075166754\n"
     ]
    }
   ],
   "source": [
    "ba=[]\n",
    "ca=[]\n",
    "for i in range(0,12):\n",
    "    a=np.array(recall_all[i])\n",
    "    b=np.var(a)\n",
    "    c=np.mean(a)\n",
    "    ba.append(b)\n",
    "    ca.append(c)\n",
    "    print(b,c)"
   ]
  },
  {
   "cell_type": "code",
   "execution_count": 26,
   "metadata": {},
   "outputs": [
    {
     "name": "stdout",
     "output_type": "stream",
     "text": [
      "    recall_var  recall_mean\n",
      "0     0.162761     0.672789\n",
      "1     0.103361     0.364235\n",
      "2     0.029926     0.146018\n",
      "3     0.006370     0.056894\n",
      "4     0.000992     0.022017\n",
      "5     0.000154     0.009218\n",
      "6     0.000052     0.005324\n",
      "7     0.000027     0.003717\n",
      "8     0.000020     0.003120\n",
      "9     0.000018     0.002961\n",
      "10    0.000018     0.002935\n",
      "11    0.000018     0.002933\n"
     ]
    }
   ],
   "source": [
    "recall_pd=pd.DataFrame(ba,columns=['recall_var'])\n",
    "recall_pd['recall_mean']=ca\n",
    "print(recall_pd)\n",
    "recall_pd.to_csv(\"recall.csv\")"
   ]
  },
  {
   "cell_type": "code",
   "execution_count": 27,
   "metadata": {},
   "outputs": [
    {
     "name": "stdout",
     "output_type": "stream",
     "text": [
      "0.11371893531456685 0.22912142326680213\n",
      "0.12364105608997221 0.32474229849055786\n",
      "0.14191381711680276 0.5176757979989016\n",
      "0.10164254173667067 0.7620205367039936\n",
      "0.031816756746597084 0.9267787133090322\n",
      "0.009272844945225171 0.9800115701716805\n",
      "0.001402744885307406 0.9971614527331457\n",
      "0.0 1.0\n",
      "0.0 1.0\n",
      "0.0 1.0\n",
      "0.0 1.0\n",
      "0.0 1.0\n"
     ]
    }
   ],
   "source": [
    "ba=[]\n",
    "ca=[]\n",
    "for i in range(0,12):\n",
    "    a=np.array(precision_all[i])\n",
    "    b=np.var(a)\n",
    "    c=np.mean(a)\n",
    "    ba.append(b)\n",
    "    ca.append(c)\n",
    "    print(b,c)"
   ]
  },
  {
   "cell_type": "code",
   "execution_count": 28,
   "metadata": {},
   "outputs": [
    {
     "name": "stdout",
     "output_type": "stream",
     "text": [
      "    precision_var  precision_mean\n",
      "0        0.113719        0.229121\n",
      "1        0.123641        0.324742\n",
      "2        0.141914        0.517676\n",
      "3        0.101643        0.762021\n",
      "4        0.031817        0.926779\n",
      "5        0.009273        0.980012\n",
      "6        0.001403        0.997161\n",
      "7        0.000000        1.000000\n",
      "8        0.000000        1.000000\n",
      "9        0.000000        1.000000\n",
      "10       0.000000        1.000000\n",
      "11       0.000000        1.000000\n"
     ]
    }
   ],
   "source": [
    "precision_all_pd=pd.DataFrame(ba,columns=['precision_var'])\n",
    "precision_all_pd['precision_mean']=ca\n",
    "print(precision_all_pd)\n",
    "precision_all_pd.to_csv(\"precision.csv\")"
   ]
  }
 ],
 "metadata": {
  "interpreter": {
   "hash": "916dbcbb3f70747c44a77c7bcd40155683ae19c65e1c03b4aa3499c5328201f1"
  },
  "kernelspec": {
   "display_name": "Python 3.8.10 64-bit",
   "language": "python",
   "name": "python3"
  },
  "language_info": {
   "codemirror_mode": {
    "name": "ipython",
    "version": 3
   },
   "file_extension": ".py",
   "mimetype": "text/x-python",
   "name": "python",
   "nbconvert_exporter": "python",
   "pygments_lexer": "ipython3",
   "version": "3.8.10"
  },
  "orig_nbformat": 4
 },
 "nbformat": 4,
 "nbformat_minor": 2
}
