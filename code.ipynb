{
 "cells": [
  {
   "cell_type": "code",
   "execution_count": 9,
   "metadata": {},
   "outputs": [],
   "source": [
    "from bitarray import bitarray\n",
    "import sys\n",
    "import os\n",
    "SCRIPT_DIR = os.path.dirname(os.path.abspath(\"/home/canyousee/CLionProjects/PAKE/KC-SPAKE2\"))\n",
    "sys.path.append(os.path.dirname(SCRIPT_DIR))\n",
    "import json\n",
    "from binascii import hexlify, unhexlify\n",
    "from hashlib import sha256\n",
    "import params\n",
    "import groups\n",
    "from params import _Params\n",
    "from ed25519_group import Ed25519Group\n",
    "import pandas as pd\n",
    "from bitarray.util import ba2base, base2ba, ba2int, int2ba\n",
    "import six\n",
    "from hashlib import sha256\n",
    "from itertools import count\n",
    "from pandas.core.frame import DataFrame\n",
    "import code\n",
    "import random\n",
    "import time\n",
    "import datetime\n",
    "import hashlib\n",
    "from random import randint\n",
    "from math import floor, log,ceil\n",
    "from scipy.spatial.distance import hamming\n"
   ]
  },
  {
   "cell_type": "markdown",
   "metadata": {},
   "source": [
    "''' transform profile into vector file, only run once'''"
   ]
  },
  {
   "cell_type": "code",
   "execution_count": 2,
   "metadata": {},
   "outputs": [],
   "source": [
    "df = pd.read_csv(\n",
    "    \"/home/canyousee/CLionProjects/CIKM-exper/Data-profile-source/city-employee.csv\")\n",
    "# build data tables\n",
    "dataSet = []\n",
    "for i in range(0, df.shape[0]):\n",
    "    dataSet.append(df.loc[i, 'age':].values.tolist())\n",
    "\n",
    "bitArr = []\n",
    "intArr = []\n",
    "for i in range(0, len(dataSet)):\n",
    "    s = bitarray(512)\n",
    "    s[:] = 0\n",
    "    s[dataSet[i][0]] = 1\n",
    "    s[101+dataSet[i][1]] = 1\n",
    "    s[102+dataSet[i][2]] = 1\n",
    "    s[109+dataSet[i][3]] = 1\n",
    "    s[313+dataSet[i][4]] = 1\n",
    "    s[335+dataSet[i][5]] = 1\n",
    "\n",
    "    intArr.append(ba2int(s))\n",
    "    bitArr.append(s.to01())\n",
    "\n",
    "df_bin = pd.DataFrame(bitArr, columns=['vector'])\n",
    "df_bin[\"name\"] = df[\"name\"]\n",
    "df_bin[\"int\"] = intArr\n",
    "df_bin.to_csv(\"Bin-city-employee.csv\")\n"
   ]
  },
  {
   "cell_type": "code",
   "execution_count": 3,
   "metadata": {},
   "outputs": [],
   "source": [
    "df = pd.read_csv(\n",
    "    \"/home/canyousee/CLionProjects/CIKM-exper/Data-profile-source/Autism.csv\")\n",
    "# build data tables 1,1,1,1,0,0,1,1,0,0,26,1,1,1,1,64,1,6,4,1\n",
    "dataSet = []\n",
    "for i in range(0, df.shape[0]):\n",
    "    dataSet.append(df.loc[i, :].values.tolist())"
   ]
  },
  {
   "cell_type": "code",
   "execution_count": 10,
   "metadata": {},
   "outputs": [],
   "source": [
    "df = pd.read_csv(\n",
    "    \"/home/canyousee/CLionProjects/CIKM-exper/Data-profile-source/adult.csv\",encoding=\"ISO-8859-1\")\n",
    "df=df.sample(n=8000,random_state=2022)\n",
    "df.to_csv(\"8000-adult.csv\")\n"
   ]
  },
  {
   "cell_type": "code",
   "execution_count": 6,
   "metadata": {},
   "outputs": [],
   "source": [
    "df = pd.read_csv(\n",
    "    \"/home/canyousee/CLionProjects/CIKM-exper/Data-profile-source/8000-adult.csv\",encoding=\"ISO-8859-1\")\n",
    "dataSet = []\n",
    "for i in range(0, df.shape[0]):\n",
    "    dataSet.append(df.loc[i, :].values.tolist())"
   ]
  },
  {
   "cell_type": "code",
   "execution_count": 7,
   "metadata": {},
   "outputs": [
    {
     "name": "stdout",
     "output_type": "stream",
     "text": [
      "[11420, 19, 4, 10, 10, 5, 12, 4, 5, 1, 1, 1, 15, 39]\n"
     ]
    }
   ],
   "source": [
    "print(dataSet[1])"
   ]
  },
  {
   "cell_type": "code",
   "execution_count": 29,
   "metadata": {},
   "outputs": [
    {
     "name": "stdout",
     "output_type": "stream",
     "text": [
      "41 9 23 3 3 8 1 4 2 1 1 40 39\n",
      "19 4 10 10 5 12 4 5 1 1 1 15 39\n",
      "29\n",
      "31\n"
     ]
    }
   ],
   "source": [
    "aa=\" \".join('%s' %id for id in dataSet[2])\n",
    "bb=\" \".join('%s' %id for id in dataSet[1])\n",
    "print(aa)\n",
    "print(bb)\n",
    "print(len(aa))\n",
    "print(len(bb))"
   ]
  },
  {
   "cell_type": "code",
   "execution_count": 8,
   "metadata": {},
   "outputs": [],
   "source": [
    "\n",
    "bitArr = []\n",
    "intArr = []\n",
    "ID=[]\n",
    "for i in range(0, len(dataSet)):\n",
    "    s = bitarray(512)\n",
    "    s[:] = 0\n",
    "    s[dataSet[i][1]] = 1\n",
    "    s[91+dataSet[i][2]] = 1\n",
    "    s[101+dataSet[i][3]] = 1\n",
    "    s[192+dataSet[i][4]] = 1\n",
    "    s[208+dataSet[i][5]] = 1\n",
    "    s[215+dataSet[i][6]] = 1\n",
    "    s[229+dataSet[i][7]] = 1\n",
    "    s[235+dataSet[i][8]] = 1\n",
    "    s[240+dataSet[i][9]] = 1\n",
    "    s[242+dataSet[i][10]] = 1\n",
    "    s[252+dataSet[i][11]] = 1\n",
    "    s[256+dataSet[i][12]]=1\n",
    "    s[356+dataSet[i][13]]=1\n",
    " \n",
    "\n",
    "    ID.append(dataSet[i][0])\n",
    "    intArr.append(ba2int(s))\n",
    "    bitArr.append(s.to01())\n",
    "\n",
    "df_bin = pd.DataFrame(ID, columns=['ID'])\n",
    "df_bin[\"int\"] = intArr\n",
    "df_bin[\"vector\"]=bitArr\n",
    "df_bin.to_csv(\"8000-adult.csv\")\n"
   ]
  },
  {
   "cell_type": "code",
   "execution_count": 40,
   "metadata": {},
   "outputs": [
    {
     "data": {
      "text/plain": [
       "'\\n    test type convert between bit and int\\n\\n    s=bitarray(12)\\n    s[:]=0\\n    s[3]=1\\n    print(s)\\n    a=ba2int(s)\\n    b=s.to01()\\n    print(a)\\n    print(b)\\n    d=int2ba(a)\\n    print(\"d\",d)\\n    c=bitarray(b)\\n    print(c)\\n    print(ba2int(c))\\n'"
      ]
     },
     "execution_count": 40,
     "metadata": {},
     "output_type": "execute_result"
    }
   ],
   "source": [
    "'''\n",
    "    test type convert between bit and int\n",
    "\n",
    "    s=bitarray(12)\n",
    "    s[:]=0\n",
    "    s[3]=1\n",
    "    print(s)\n",
    "    a=ba2int(s)\n",
    "    b=s.to01()\n",
    "    print(a)\n",
    "    print(b)\n",
    "    d=int2ba(a)\n",
    "    print(\"d\",d)\n",
    "    c=bitarray(b)\n",
    "    print(c)\n",
    "    print(ba2int(c))\n",
    "'''\n"
   ]
  },
  {
   "cell_type": "markdown",
   "metadata": {},
   "source": [
    "'''\n",
    "setup system \n",
    "generate LSH functions\n",
    "public parameters used in spake2\n",
    "'''"
   ]
  },
  {
   "cell_type": "code",
   "execution_count": 58,
   "metadata": {},
   "outputs": [],
   "source": [
    "\n",
    "\n",
    "df = pd.read_csv(\n",
    "    \"/home/canyousee/CLionProjects/CIKM-exper/Data-profile-vector/Bin-city-employee.csv\")\n",
    "# build data tables\n",
    "dataSet = []\n",
    "dataSetBin = []\n",
    "for i in range(0, df.shape[0]):\n",
    "    dataSet.append(int(df.loc[i, 'int']))\n",
    "    dataSetBin.append(df.loc[i, 'vector'])\n"
   ]
  },
  {
   "cell_type": "code",
   "execution_count": 42,
   "metadata": {},
   "outputs": [
    {
     "data": {
      "text/plain": [
       "\"\\ntest case\\n\\na=dataSet[1]\\nb=dataSetBin[1]\\nprint(a)\\nprint(b)\\n\\nc=int2ba(a)\\nprint(c)\\nd=c.to01()\\nprint(d)\\nd=d.rjust(512,'0')\\nprint(d)\\n\""
      ]
     },
     "execution_count": 42,
     "metadata": {},
     "output_type": "execute_result"
    }
   ],
   "source": [
    "'''\n",
    "test case\n",
    "\n",
    "a=dataSet[1]\n",
    "b=dataSetBin[1]\n",
    "print(a)\n",
    "print(b)\n",
    "\n",
    "c=int2ba(a)\n",
    "print(c)\n",
    "d=c.to01()\n",
    "print(d)\n",
    "d=d.rjust(512,'0')\n",
    "print(d)\n",
    "'''\n"
   ]
  },
  {
   "cell_type": "markdown",
   "metadata": {},
   "source": [
    "'''define some functions used by LSH'''"
   ]
  },
  {
   "cell_type": "code",
   "execution_count": 6,
   "metadata": {},
   "outputs": [],
   "source": [
    "def popcnt(x): return bin(x).count('1')\n",
    "def dist(x, y): return popcnt(x ^ y)\n",
    "\n",
    "\n",
    "def buildCovering(d, r):\n",
    "    A = {}\n",
    "    for v in range(1, 2**(r+1)):\n",
    "        A[v] = 0\n",
    "    for i in range(d):\n",
    "        m = randint(1, 2**(r+1)-1)\n",
    "       \n",
    "        for v in range(1, 2**(r+1)):\n",
    "            A[v] = A[v] + (1 << i) * (popcnt(m & v) % 2)\n",
    "    return A\n",
    "\n",
    "\n",
    "def buildDataStructure(A, S, r):\n",
    "    D = {}\n",
    "    for x in S:\n",
    "        for v in range(1, 2**(r+1)):\n",
    "            if not (x & A[v]) in D:\n",
    "                D[x & A[v]] = set()\n",
    "            D[x & A[v]].add(x)\n",
    "    return D\n",
    "\n",
    "\n",
    "def nearestNeighbor(A, D, r, y):\n",
    "    infinity = float(\"inf\")\n",
    "    best, nn = infinity, None\n",
    "    for v in range(1, 2**(r+1)):\n",
    "        if (y & A[v]) in D:\n",
    "            for x in D[y & A[v]]:\n",
    "                if dist(x, y) < best:\n",
    "                    best, nn = dist(x, y), x\n",
    "\n",
    "        if best <= floor(log(v+1, 2)):\n",
    "            return nn\n",
    "    return None\n",
    "\n",
    "\n",
    "def generateLSH(A, D, r, y):\n",
    "    infinity = float(\"inf\")\n",
    "    best, nn = infinity, None\n",
    "    for v in range(1, 2**(r+1)):\n",
    "        if (y & A[v]) in D:\n",
    "            return y & A[v]\n",
    "\n",
    "def split_list(a_list, test):\n",
    "    point= int(len(a_list)*test)\n",
    "    return a_list[:point], a_list[point:]"
   ]
  },
  {
   "cell_type": "code",
   "execution_count": 44,
   "metadata": {},
   "outputs": [
    {
     "name": "stdout",
     "output_type": "stream",
     "text": [
      "0:00:00.000030\n"
     ]
    }
   ],
   "source": [
    "begin_time = datetime.datetime.now()\n",
    "print(datetime.datetime.now() - begin_time)"
   ]
  },
  {
   "cell_type": "code",
   "execution_count": null,
   "metadata": {},
   "outputs": [],
   "source": [
    "test=0.2\n",
    "test_set, train_set=split_list(dataSet,test)\n",
    "\n",
    "n = ceil(len(dataSet)*(1-test)) # size of dataset\n",
    "r = 5  # radius\n",
    "d = 512  # dimen of vector\n",
    "repetitions = 10000\n",
    "\n",
    "print(\"Building data structure with\", n, \"vectors in\",\n",
    "      d, \"dimensions and maximum radius\", r, \"...\")\n",
    "A =buildCovering(d, r)\n",
    "D = buildDataStructure(A,train_set, r)"
   ]
  },
  {
   "cell_type": "code",
   "execution_count": 62,
   "metadata": {},
   "outputs": [
    {
     "name": "stdout",
     "output_type": "stream",
     "text": [
      "17596481011712\n",
      "<class 'int'>\n"
     ]
    }
   ],
   "source": [
    "y = generateLSH(A, D, r, test_set[1])\n",
    "print(hash(y))\n",
    "print(type(y))"
   ]
  },
  {
   "cell_type": "code",
   "execution_count": 46,
   "metadata": {},
   "outputs": [],
   "source": [
    "test_hash_set=[]\n",
    "for i in range(0, len(test_set)):\n",
    "    y = generateLSH(A, D, r, test_set[i])\n",
    "    test_hash_set.append(y)"
   ]
  },
  {
   "cell_type": "code",
   "execution_count": 47,
   "metadata": {},
   "outputs": [],
   "source": [
    "dff = pd.read_csv(\n",
    "    \"/home/canyousee/CLionProjects/CIKM-exper/Data-profile-source/city-employee.csv\")\n",
    "# build data tables\n",
    "dataSetf = []\n",
    "for i in range(0, dff.shape[0]):\n",
    "    dataSetf.append(dff.loc[i, 'age':].values.tolist())"
   ]
  },
  {
   "cell_type": "code",
   "execution_count": 48,
   "metadata": {},
   "outputs": [
    {
     "name": "stdout",
     "output_type": "stream",
     "text": [
      "0:00:00.000088\n"
     ]
    }
   ],
   "source": [
    "begin_time = datetime.datetime.now()\n",
    "\n",
    "y1= generateLSH(A, D, r, dataSet[13])\n",
    "print(datetime.datetime.now() - begin_time)"
   ]
  },
  {
   "cell_type": "code",
   "execution_count": 49,
   "metadata": {},
   "outputs": [],
   "source": [
    "y1= generateLSH(A, D, r, dataSet[13])\n",
    "result=[]\n",
    "for i in D[y1]:\n",
    "    d=int2ba(i).to01().rjust(512,'0')\n",
    "    for j in range(0,len(dataSetBin)):\n",
    "        di=hamming(dataSetBin[j],d)\n",
    "        if(di!=1):\n",
    "            y2=generateLSH(A,D,r,dataSet[j])\n",
    "            if(y1==y2):\n",
    "                    result.append(j)"
   ]
  },
  {
   "cell_type": "code",
   "execution_count": 51,
   "metadata": {},
   "outputs": [
    {
     "name": "stdout",
     "output_type": "stream",
     "text": [
      "[34, 0, 3, 141, 2, 3]\n"
     ]
    }
   ],
   "source": [
    "print(dataSetf[13])"
   ]
  },
  {
   "cell_type": "code",
   "execution_count": null,
   "metadata": {},
   "outputs": [],
   "source": [
    "for i in result:\n",
    "    if(dataSetf[13]!=dataSetf[i]):\n",
    "        di=hamming(dataSetf[13],dataSetf[i])\n",
    "        print(di,dataSetf[i])\n"
   ]
  },
  {
   "cell_type": "markdown",
   "metadata": {},
   "source": [
    "'''exact profile matching'''"
   ]
  },
  {
   "cell_type": "markdown",
   "metadata": {},
   "source": [
    "- setup"
   ]
  },
  {
   "cell_type": "code",
   "execution_count": 8,
   "metadata": {},
   "outputs": [],
   "source": [
    "params = _Params(Ed25519Group)\n",
    "entropy_f=os.urandom\n",
    "g = params.group\n",
    "a=g.arbitrary_element(b\"A\") # public parameter a"
   ]
  },
  {
   "cell_type": "code",
   "execution_count": 9,
   "metadata": {},
   "outputs": [],
   "source": [
    "idA=b\"1\"\n",
    "idB=b\"2\"\n"
   ]
  },
  {
   "cell_type": "code",
   "execution_count": 10,
   "metadata": {},
   "outputs": [
    {
     "name": "stdout",
     "output_type": "stream",
     "text": [
      "b'833445887037731157'\n",
      "b'159347891694782771'\n",
      "18\n",
      "18\n"
     ]
    }
   ],
   "source": [
    "aa=\"\".join('%s' %id for id in dataSet[1])\n",
    "bb=\"\".join('%s' %id for id in dataSet[2])\n",
    "aa=str(hash(aa))\n",
    "bb=str(hash(bb))\n",
    "print(aa.encode('UTF-8'))\n",
    "print(bb.encode('UTF-8'))\n",
    "print(len(aa))\n",
    "print(len(bb))"
   ]
  },
  {
   "cell_type": "markdown",
   "metadata": {},
   "source": [
    "- requireGen"
   ]
  },
  {
   "cell_type": "code",
   "execution_count": 15,
   "metadata": {},
   "outputs": [
    {
     "name": "stdout",
     "output_type": "stream",
     "text": [
      "32\n",
      "0:00:00.004429\n"
     ]
    }
   ],
   "source": [
    "begin_time = datetime.datetime.now()\n",
    "aa=\"\".join('%s' %id for id in dataSet[1])\n",
    "aa=str(hash(aa))\n",
    "\n",
    "pw=aa.encode('UTF-8')\n",
    "pw_scalar = params.group.password_to_scalar(pw)\n",
    "\n",
    "xy_scalar = g.random_scalar(entropy_f) # random x\n",
    "xy_elem = g.Base.scalarmult(xy_scalar) # g^x\n",
    "message_elem = xy_elem.add(a.scalarmult(pw_scalar))\n",
    "print(len(message_elem.to_bytes()))\n",
    "print(datetime.datetime.now() - begin_time)\n"
   ]
  },
  {
   "cell_type": "markdown",
   "metadata": {},
   "source": [
    "encrypted requirements"
   ]
  },
  {
   "cell_type": "code",
   "execution_count": 16,
   "metadata": {},
   "outputs": [],
   "source": [
    "outbound_message = message_elem.to_bytes() "
   ]
  },
  {
   "cell_type": "markdown",
   "metadata": {},
   "source": [
    "- materialGen"
   ]
  },
  {
   "cell_type": "code",
   "execution_count": 17,
   "metadata": {},
   "outputs": [
    {
     "name": "stdout",
     "output_type": "stream",
     "text": [
      "0:00:00.005295\n"
     ]
    }
   ],
   "source": [
    "begin_time = datetime.datetime.now()\n",
    "pw = b\"123456\"\n",
    "pw_scalar = params.group.password_to_scalar(pw)\n",
    "\n",
    "xy1_scalar = g.random_scalar(entropy_f) # random y\n",
    "xy1_elem = g.Base.scalarmult(xy1_scalar) # g^y = tag\n",
    "pw_blinding = a.scalarmult(-pw_scalar) # a^-pw\n",
    "w=message_elem.add(pw_blinding).scalarmult(xy1_scalar)\n",
    "byte_xy1_elem=xy1_elem.to_bytes()\n",
    "byte_w=w.to_bytes()\n",
    "print(datetime.datetime.now() - begin_time)"
   ]
  },
  {
   "cell_type": "code",
   "execution_count": 18,
   "metadata": {},
   "outputs": [
    {
     "name": "stdout",
     "output_type": "stream",
     "text": [
      "--- 0.005312681198120117 seconds ---\n"
     ]
    }
   ],
   "source": [
    "import time\n",
    "start_time=time.time()\n",
    "#begin_time = datetime.datetime.now()\n",
    "pw = b\"123456\"\n",
    "pw_scalar = params.group.password_to_scalar(pw)\n",
    "\n",
    "xy1_scalar = g.random_scalar(entropy_f) # random y\n",
    "xy1_elem = g.Base.scalarmult(xy1_scalar) # g^y = tag\n",
    "pw_blinding = a.scalarmult(-pw_scalar) # a^-pw\n",
    "w=message_elem.add(pw_blinding).scalarmult(xy1_scalar)\n",
    "byte_xy1_elem=xy1_elem.to_bytes()\n",
    "byte_w=w.to_bytes()\n",
    "transcriptb = b\"\".join([sha256(pw).digest(),\n",
    "                           sha256(idA).digest(), sha256(idB).digest(),\n",
    "                           outbound_message, byte_xy1_elem, byte_w])\n",
    "key = sha256(transcriptb).digest()\n",
    "\n",
    "print(\"--- %s seconds ---\" % (time.time() - start_time))\n",
    "#print(datetime.datetime.now() - begin_time)"
   ]
  },
  {
   "cell_type": "code",
   "execution_count": 21,
   "metadata": {},
   "outputs": [
    {
     "name": "stdout",
     "output_type": "stream",
     "text": [
      "6\n",
      "b'#wb\\xf4\\xde\\r'\n",
      "b'\\x8b\\xedv\\x9fj\\xc1a\\x9e\\xe9\\x96\\xad\\xb9\\xbbDd0'\n",
      "b'\\xde\\xa6\\\\`\\x10\\x85p2\\xbd\\xd7#wb\\xf4\\xde\\r\\x8b\\xedv\\x9fj\\xc1a\\x9e\\xe9\\x96\\xad\\xb9\\xbbDd0'\n",
      "32\n"
     ]
    }
   ],
   "source": [
    "print(len(key[:6]))\n",
    "print(key[10:16])\n",
    "print(key[16:])\n",
    "print(key)\n",
    "print(len(byte_xy1_elem))"
   ]
  },
  {
   "cell_type": "markdown",
   "metadata": {},
   "source": [
    "- AllowGen"
   ]
  },
  {
   "cell_type": "code",
   "execution_count": 60,
   "metadata": {},
   "outputs": [],
   "source": [
    "wa=xy1_elem.scalarmult(xy_scalar)\n",
    "byte_wa=wa.to_bytes()\n",
    "transcripta = b\"\".join([sha256(pw).digest(),\n",
    "                           sha256(idA).digest(), sha256(idB).digest(),\n",
    "                           outbound_message, byte_xy1_elem, byte_wa])\n",
    "keya = sha256(transcripta).digest()"
   ]
  },
  {
   "cell_type": "code",
   "execution_count": 61,
   "metadata": {},
   "outputs": [
    {
     "name": "stdout",
     "output_type": "stream",
     "text": [
      "b'\\x82\\nx\\xc7\\xc3%\\x00\\xa4\\x81e'\n",
      "b'=7\\xc3\\xd2t\\x8a'\n",
      "b'\\xfd\\x88\\xb8+U\\x97D\\xaa9\\x07\\xad\\xe8\\xd8\\xc0\\xc1\\x9b'\n",
      "b'\\x82\\nx\\xc7\\xc3%\\x00\\xa4\\x81e=7\\xc3\\xd2t\\x8a\\xfd\\x88\\xb8+U\\x97D\\xaa9\\x07\\xad\\xe8\\xd8\\xc0\\xc1\\x9b'\n"
     ]
    }
   ],
   "source": [
    "print(keya[:10])\n",
    "print(keya[10:16])\n",
    "print(keya[16:])\n",
    "print(keya)"
   ]
  },
  {
   "cell_type": "markdown",
   "metadata": {},
   "source": [
    "'''address quality file'''"
   ]
  },
  {
   "cell_type": "code",
   "execution_count": 117,
   "metadata": {},
   "outputs": [],
   "source": [
    "dquality_weather = pd.read_csv(\n",
    "    \"/home/canyousee/CLionProjects/CIKM-exper/Data-quality-address/WeatherSentiment_amt.csv\")\n",
    "# build data tables\n",
    "data_worker=[]\n",
    "for i in range(0, dquality_weather.shape[0]):\n",
    "    data_worker.append(dquality_weather.loc[i, 'wId'])"
   ]
  },
  {
   "cell_type": "code",
   "execution_count": 141,
   "metadata": {},
   "outputs": [
    {
     "data": {
      "text/html": [
       "<div>\n",
       "<style scoped>\n",
       "    .dataframe tbody tr th:only-of-type {\n",
       "        vertical-align: middle;\n",
       "    }\n",
       "\n",
       "    .dataframe tbody tr th {\n",
       "        vertical-align: top;\n",
       "    }\n",
       "\n",
       "    .dataframe thead th {\n",
       "        text-align: right;\n",
       "    }\n",
       "</style>\n",
       "<table border=\"1\" class=\"dataframe\">\n",
       "  <thead>\n",
       "    <tr style=\"text-align: right;\">\n",
       "      <th></th>\n",
       "      <th>qId</th>\n",
       "      <th>answer</th>\n",
       "      <th>ground</th>\n",
       "      <th>time</th>\n",
       "    </tr>\n",
       "    <tr>\n",
       "      <th>wId</th>\n",
       "      <th></th>\n",
       "      <th></th>\n",
       "      <th></th>\n",
       "      <th></th>\n",
       "    </tr>\n",
       "  </thead>\n",
       "  <tbody>\n",
       "    <tr>\n",
       "      <th>A31LPSIQ9A7RWV</th>\n",
       "      <td>1</td>\n",
       "      <td>1</td>\n",
       "      <td>1</td>\n",
       "      <td>1</td>\n",
       "    </tr>\n",
       "    <tr>\n",
       "      <th>A2YXL5GQ3LZUY0</th>\n",
       "      <td>1</td>\n",
       "      <td>1</td>\n",
       "      <td>1</td>\n",
       "      <td>1</td>\n",
       "    </tr>\n",
       "    <tr>\n",
       "      <th>A37EXOG9VHZD5Q</th>\n",
       "      <td>1</td>\n",
       "      <td>1</td>\n",
       "      <td>1</td>\n",
       "      <td>1</td>\n",
       "    </tr>\n",
       "    <tr>\n",
       "      <th>A3DT085TCZLLMH</th>\n",
       "      <td>1</td>\n",
       "      <td>1</td>\n",
       "      <td>1</td>\n",
       "      <td>1</td>\n",
       "    </tr>\n",
       "    <tr>\n",
       "      <th>A2FUMA4UR6S920</th>\n",
       "      <td>1</td>\n",
       "      <td>1</td>\n",
       "      <td>1</td>\n",
       "      <td>1</td>\n",
       "    </tr>\n",
       "    <tr>\n",
       "      <th>...</th>\n",
       "      <td>...</td>\n",
       "      <td>...</td>\n",
       "      <td>...</td>\n",
       "      <td>...</td>\n",
       "    </tr>\n",
       "    <tr>\n",
       "      <th>A1TM1ZFU4OIPTD</th>\n",
       "      <td>176</td>\n",
       "      <td>176</td>\n",
       "      <td>176</td>\n",
       "      <td>176</td>\n",
       "    </tr>\n",
       "    <tr>\n",
       "      <th>A2N7I0331X72Z7</th>\n",
       "      <td>196</td>\n",
       "      <td>196</td>\n",
       "      <td>196</td>\n",
       "      <td>196</td>\n",
       "    </tr>\n",
       "    <tr>\n",
       "      <th>AJPQEZBVJXVE9</th>\n",
       "      <td>210</td>\n",
       "      <td>210</td>\n",
       "      <td>210</td>\n",
       "      <td>210</td>\n",
       "    </tr>\n",
       "    <tr>\n",
       "      <th>A2QLSHXNCHBRN4</th>\n",
       "      <td>242</td>\n",
       "      <td>242</td>\n",
       "      <td>242</td>\n",
       "      <td>242</td>\n",
       "    </tr>\n",
       "    <tr>\n",
       "      <th>A14KDXENR3YF9</th>\n",
       "      <td>272</td>\n",
       "      <td>272</td>\n",
       "      <td>272</td>\n",
       "      <td>272</td>\n",
       "    </tr>\n",
       "  </tbody>\n",
       "</table>\n",
       "<p>110 rows × 4 columns</p>\n",
       "</div>"
      ],
      "text/plain": [
       "                qId  answer  ground  time\n",
       "wId                                      \n",
       "A31LPSIQ9A7RWV    1       1       1     1\n",
       "A2YXL5GQ3LZUY0    1       1       1     1\n",
       "A37EXOG9VHZD5Q    1       1       1     1\n",
       "A3DT085TCZLLMH    1       1       1     1\n",
       "A2FUMA4UR6S920    1       1       1     1\n",
       "...             ...     ...     ...   ...\n",
       "A1TM1ZFU4OIPTD  176     176     176   176\n",
       "A2N7I0331X72Z7  196     196     196   196\n",
       "AJPQEZBVJXVE9   210     210     210   210\n",
       "A2QLSHXNCHBRN4  242     242     242   242\n",
       "A14KDXENR3YF9   272     272     272   272\n",
       "\n",
       "[110 rows x 4 columns]"
      ]
     },
     "execution_count": 141,
     "metadata": {},
     "output_type": "execute_result"
    }
   ],
   "source": [
    "dquality_weather.groupby('wId').count().sort_values(by=['qId'])"
   ]
  },
  {
   "cell_type": "code",
   "execution_count": 11,
   "metadata": {},
   "outputs": [],
   "source": [
    "for i in range(0,len(data_worker)):\n",
    "    if(dquality_weather[dquality_weather['wId']==data_worker[i]].shape[0]<10):\n",
    "        dquality_weather.drop(dquality_weather[dquality_weather['wId']==data_worker[i]].index)"
   ]
  },
  {
   "cell_type": "code",
   "execution_count": 12,
   "metadata": {},
   "outputs": [],
   "source": [
    "data_worker=[]\n",
    "dataSet_dquality_weather = []\n",
    "for i in range(0, dquality_weather.shape[0]):\n",
    "    dataSet_dquality_weather.append(dquality_weather.loc[i, :].values.tolist())\n",
    "    data_worker.append(dataSet_dquality_weather[i][0])"
   ]
  },
  {
   "cell_type": "code",
   "execution_count": 13,
   "metadata": {},
   "outputs": [
    {
     "name": "stdout",
     "output_type": "stream",
     "text": [
      "               wId       qId  answer  ground  time\n",
      "0   A2N7I0331X72Z7  81991168       0       0    14\n",
      "1    A4T1X0PO5N1G9  81991168       0       0     5\n",
      "2   A1R0689JPSQ3OF  81991168       0       0    19\n",
      "3   A3F7TD3W9043EO  81991168       1       0     8\n",
      "4   A1IWCAELIKUG2S  81991168       0       0     5\n",
      "5   A1K5FQWAV30V23  81991168       0       0     6\n",
      "6   A3CJT6C1XWL7WQ  81991168       0       0     6\n",
      "7   A3J2UG22S8BIW4  81991168       0       0    10\n",
      "8   A1X2U32G8UXG1T  81991168       0       0     6\n",
      "9   A2VZ8PX50FB2IG  81991168       0       0     7\n",
      "10  A18TCR555RWUZV  81991168       0       0     5\n",
      "11   A510NKLV727GZ  81991168       2       0     9\n",
      "12  A1HGC1W5EWXUYS  81991168       0       0    13\n",
      "13  A2QLSHXNCHBRN4  81991168       0       0     8\n",
      "14  A1UT5N655D2OHX  81991168       0       0    47\n",
      "15   AEL1MCZLN6W8Y  81991168       1       0    10\n",
      "16   A49XY0E6KFP15  81991168       2       0     6\n",
      "17   AOAZMLP27GD81  81991168       0       0     8\n",
      "18  A1AVXGO6VIGH7D  81991168       1       0     5\n",
      "19  A2N4DD7IS7EI2D  81991168       2       0    17\n",
      "20  A3J2UG22S8BIW4  80052225       3       2     5\n",
      "21  A2QLSHXNCHBRN4  80052225       3       2     9\n",
      "22   AU5Y7J1PF0UIT  80052225       3       2     8\n",
      "23  A1R0689JPSQ3OF  80052225       2       2    12\n",
      "24  A18TCR555RWUZV  80052225       3       2     5\n",
      "25   AJPQEZBVJXVE9  80052225       3       2     4\n",
      "26  A33G1859PJ4KDO  80052225       3       2    88\n",
      "27  A1E1XXSCJHEA3T  80052225       3       2     8\n",
      "28  A2Q5O64TC9HI8V  80052225       2       2     5\n",
      "29  A3F7TD3W9043EO  80052225       3       2     8\n",
      "30  A1AVXGO6VIGH7D  80052225       2       2     5\n",
      "31   A49XY0E6KFP15  80052225       2       2     6\n",
      "32  A3F0NFNLOLFJT0  80052225       2       2     8\n",
      "33  A1TM1ZFU4OIPTD  80052225       3       2   161\n",
      "34  A2VZ8PX50FB2IG  80052225       3       2     4\n",
      "35  A1PPX9MVJFMNJ5  80052225       2       2     5\n",
      "36  A1E3JQKS4PASBU  80052225       2       2     6\n",
      "37   AFJ9I4LSV49SB  80052225       2       2     6\n",
      "38  A1K5FQWAV30V23  80052225       4       2     8\n",
      "39   A510NKLV727GZ  80052225       2       2     8\n",
      "40  A14PFRHG0A2YY9  81991664       1       0    12\n",
      "41   A14KDXENR3YF9  81991664       0       0     7\n",
      "42  A1TM1ZFU4OIPTD  81991664       0       0   230\n",
      "43  A18TCR555RWUZV  81991664       0       0     4\n",
      "44  A2KFBIPESKBKWK  81991664       0       0     2\n",
      "45   AOAZMLP27GD81  81991664       0       0     7\n",
      "46  A1PPX9MVJFMNJ5  81991664       1       0    16\n",
      "47   A2QVMCGDLTWV9  81991664       4       0     8\n",
      "48  A2N7I0331X72Z7  81991664       0       0    12\n",
      "49   A1QKX5CZJQONP  81991664       1       0    13\n"
     ]
    }
   ],
   "source": [
    "print(dquality_weather.head(50))"
   ]
  },
  {
   "cell_type": "markdown",
   "metadata": {},
   "source": [
    "- GoldCommit"
   ]
  },
  {
   "cell_type": "code",
   "execution_count": 14,
   "metadata": {},
   "outputs": [],
   "source": [
    "\n",
    "def commit_gold(gold,pk):\n",
    "    pw_hash = hashlib.pbkdf2_hmac('sha256',gold.encode(), pk, 100000)\n",
    "    return pw_hash\n",
    "def open_commit(gold, pk, gold_commit):\n",
    "    pw_hash = hashlib.pbkdf2_hmac('sha256',gold.encode(), pk, 100000)\n",
    "    return pw_hash==gold_commit"
   ]
  },
  {
   "cell_type": "markdown",
   "metadata": {},
   "source": [
    "'''random select 20% questions as gold questions'''"
   ]
  },
  {
   "cell_type": "code",
   "execution_count": 15,
   "metadata": {},
   "outputs": [
    {
     "name": "stdout",
     "output_type": "stream",
     "text": [
      "{81991018: 2, 81178980: 2, 81991119: 1, 80050625: 0, 80059939: 0, 80053174: 2, 81178003: 1, 79186665: 1, 81991459: 4, 81215682: 3, 81174487: 4, 81212944: 3, 81990560: 2, 80050645: 1, 79187165: 2, 79194075: 3, 80050108: 3, 81211518: 2, 79195022: 3, 80059915: 3, 79188095: 1, 79195594: 2, 81991269: 3, 81991877: 2, 81992349: 1, 79188848: 3, 80050271: 4, 80058841: 1, 80056235: 2, 81993620: 3, 81993695: 1, 81172701: 3, 81214513: 3, 81213374: 3, 81177151: 3, 80059451: 0, 81178007: 2, 81176574: 1, 79189295: 3, 80052807: 3, 79194346: 2, 79189145: 2, 80054061: 1, 80050881: 3, 80055852: 3, 79197903: 0, 80050754: 0, 79194811: 1, 80052225: 2, 81213766: 1, 81169556: 3, 80057291: 2, 80050144: 1, 81176223: 0, 81172069: 3, 81993382: 3, 79188512: 0, 81176504: 1, 81991330: 2, 79187199: 3}\n"
     ]
    }
   ],
   "source": [
    "gold={}\n",
    "qId_data=DataFrame(dquality_weather.qId.unique())\n",
    "qId_data=qId_data.sample(n=60)\n",
    "\n",
    "for i in range(0,qId_data.shape[0]):\n",
    "    gold[qId_data.iloc[i,0]]=dquality_weather[dquality_weather['qId']==qId_data.iloc[i,0]]['ground'].iloc[0]\n",
    "\n",
    "print(gold)\n"
   ]
  },
  {
   "cell_type": "code",
   "execution_count": null,
   "metadata": {},
   "outputs": [],
   "source": [
    "pk= os.urandom(16)"
   ]
  },
  {
   "cell_type": "code",
   "execution_count": 20,
   "metadata": {},
   "outputs": [],
   "source": [
    "astr=str(list(gold.items())[:30])"
   ]
  },
  {
   "cell_type": "code",
   "execution_count": 43,
   "metadata": {},
   "outputs": [],
   "source": [
    "astr1=str(list(gold.items())[0])"
   ]
  },
  {
   "cell_type": "code",
   "execution_count": 39,
   "metadata": {},
   "outputs": [
    {
     "name": "stdout",
     "output_type": "stream",
     "text": [
      "commit time: for 60  0.03967365648000033\n"
     ]
    }
   ],
   "source": [
    "\n",
    "\n",
    "\n",
    "avg=0\n",
    "for i in range(0,100):\n",
    "    begin_time = time.process_time()\n",
    "    gold_commit=commit_gold(str(gold),pk)\n",
    "    end_time=time.process_time() - begin_time\n",
    "    avg=avg+end_time\n",
    "\n",
    "print(\"commit time: for 60 \",avg/100)\n"
   ]
  },
  {
   "cell_type": "code",
   "execution_count": 40,
   "metadata": {},
   "outputs": [
    {
     "name": "stdout",
     "output_type": "stream",
     "text": [
      "open time: for 60  0.039269109299999695\n"
     ]
    }
   ],
   "source": [
    "\n",
    "avg=0\n",
    "for i in range(0,100):\n",
    "    begin_time = time.process_time()\n",
    "    open_commit(str(gold),pk,gold_commit)\n",
    "    end_time=time.process_time() - begin_time\n",
    "    avg=avg+end_time\n",
    "\n",
    "print(\"open time: for 60 \",avg/100)"
   ]
  },
  {
   "cell_type": "code",
   "execution_count": 41,
   "metadata": {},
   "outputs": [
    {
     "name": "stdout",
     "output_type": "stream",
     "text": [
      "commit time: for 30  0.039309871979999966\n"
     ]
    }
   ],
   "source": [
    "avg=0\n",
    "for i in range(0,100):\n",
    "    begin_time = time.process_time()\n",
    "    gold_commit=commit_gold(astr,pk)\n",
    "    end_time=time.process_time() - begin_time\n",
    "    avg=avg+end_time\n",
    "\n",
    "print(\"commit time: for 30 \",avg/100)\n"
   ]
  },
  {
   "cell_type": "code",
   "execution_count": 44,
   "metadata": {},
   "outputs": [
    {
     "name": "stdout",
     "output_type": "stream",
     "text": [
      "commit time: for 1  0.0394285212300003\n"
     ]
    }
   ],
   "source": [
    "avg=0\n",
    "for i in range(0,100):\n",
    "    begin_time = time.process_time()\n",
    "    gold_commit=commit_gold(astr1,pk)\n",
    "    end_time=time.process_time() - begin_time\n",
    "    avg=avg+end_time\n",
    "\n",
    "print(\"commit time: for 1 \",avg/100)"
   ]
  },
  {
   "cell_type": "code",
   "execution_count": 45,
   "metadata": {},
   "outputs": [
    {
     "name": "stdout",
     "output_type": "stream",
     "text": [
      "open time: for 1  0.039217597700000016\n"
     ]
    }
   ],
   "source": [
    "avg=0\n",
    "for i in range(0,100):\n",
    "    begin_time = time.process_time()\n",
    "    open_commit(astr1,pk,gold_commit)\n",
    "    end_time=time.process_time() - begin_time\n",
    "    avg=avg+end_time\n",
    "\n",
    "print(\"open time: for 1 \",avg/100)"
   ]
  },
  {
   "cell_type": "code",
   "execution_count": 42,
   "metadata": {},
   "outputs": [
    {
     "name": "stdout",
     "output_type": "stream",
     "text": [
      "open time: for 30  0.03932038602000034\n"
     ]
    }
   ],
   "source": [
    "avg=0\n",
    "for i in range(0,100):\n",
    "    begin_time = time.process_time()\n",
    "    open_commit(astr,pk,gold_commit)\n",
    "    end_time=time.process_time() - begin_time\n",
    "    avg=avg+end_time\n",
    "\n",
    "print(\"open time: for 30 \",avg/100)"
   ]
  },
  {
   "cell_type": "markdown",
   "metadata": {},
   "source": [
    "- QuaCertificate"
   ]
  },
  {
   "cell_type": "code",
   "execution_count": 23,
   "metadata": {},
   "outputs": [],
   "source": [
    "import sys\n",
    "\n",
    "SEED_SIZE  = 48\n",
    "GENERATOR  = 223\n",
    "MODULUS    = 36389\n",
    "\n",
    "FUNCTION_L = lambda x: x**2 - 2*x + 1\n",
    "\n",
    "\n",
    "def function_H(first_half, second_half):\n",
    "    mod_exp = bin(pow(GENERATOR, int(first_half, 2), MODULUS)).replace('0b', '').zfill(SEED_SIZE)\n",
    "    hard_core_bit = 0\n",
    "    for i in range(len(first_half)):\n",
    "        hard_core_bit = (hard_core_bit ^ (int(first_half[i]) & int(second_half[i]))) % 2\n",
    "    return mod_exp + second_half + str(hard_core_bit)\n",
    "\n",
    "\n",
    "def function_G(initial_seed):\n",
    "    binary_string = initial_seed\n",
    "    result = ''\n",
    "    for i in range(FUNCTION_L(SEED_SIZE)):\n",
    "        first_half = binary_string[:len(binary_string)//2]\n",
    "        second_half = binary_string[len(binary_string)//2:]\n",
    "        binary_string = function_H(first_half, second_half)\n",
    "        result += binary_string[-1]\n",
    "        binary_string = binary_string[:-1]\n",
    "    return result\n",
    "\n",
    "\n",
    "def PRG(seed):\n",
    "    if len(seed) > SEED_SIZE:\n",
    "        print (\"Inital seed too long: change the seed or set a new SEED_SIZE\")\n",
    "        \n",
    "    output = function_G(seed)\n",
    "    return output\n"
   ]
  },
  {
   "cell_type": "code",
   "execution_count": 76,
   "metadata": {},
   "outputs": [],
   "source": [
    "c = bitarray(endian='little')\n",
    "c.frombytes(b'\\x82\\nx\\xc7')\n"
   ]
  },
  {
   "cell_type": "code",
   "execution_count": 24,
   "metadata": {},
   "outputs": [],
   "source": [
    "tempw=b'=7\\xc3\\xd2t\\x8a'"
   ]
  },
  {
   "cell_type": "code",
   "execution_count": 26,
   "metadata": {},
   "outputs": [],
   "source": [
    "c = bitarray(endian='little')\n",
    "c.frombytes(tempw)\n"
   ]
  },
  {
   "cell_type": "code",
   "execution_count": 27,
   "metadata": {},
   "outputs": [
    {
     "name": "stdout",
     "output_type": "stream",
     "text": [
      "2209\n"
     ]
    }
   ],
   "source": [
    "seed=c.to01()\n",
    "randoms=PRG(seed)\n",
    "print(len(randoms))"
   ]
  },
  {
   "cell_type": "code",
   "execution_count": 46,
   "metadata": {},
   "outputs": [
    {
     "name": "stdout",
     "output_type": "stream",
     "text": [
      "PRG time:  0.023648422139999355\n"
     ]
    }
   ],
   "source": [
    "avg=0\n",
    "for i in range(0,100):\n",
    "    begin_time = time.process_time()\n",
    "    randoms=PRG(seed)\n",
    "    end_time=time.process_time() - begin_time\n",
    "    avg=avg+end_time\n",
    "print(\"PRG time: \",avg/100)\n"
   ]
  },
  {
   "cell_type": "code",
   "execution_count": 28,
   "metadata": {},
   "outputs": [],
   "source": [
    "random_values=[]\n",
    "for i in range(0,len(randoms)//8):\n",
    "    random_values.append(randoms[i*8:(i+1)*8])\n"
   ]
  },
  {
   "cell_type": "code",
   "execution_count": 29,
   "metadata": {},
   "outputs": [],
   "source": [
    "\n",
    "class MerkleHashTree():\n",
    "    \"\"\"  Merkle Hash Tree \"\"\"\n",
    "    \n",
    "    def addLeaf(self, string):\n",
    "        \"\"\" Create a new leaf node for the string 'd' \"\"\"\n",
    "        hashValue = hash(string)\n",
    "        self.size += 1\n",
    "        self._storeNode(self.size-1, self.size, hashValue)\n",
    "\n",
    "    def mth(self, k1, k2):\n",
    "        \"\"\" Merkle Tree Hash funcion recursively creates required nodes\"\"\"\n",
    "       \n",
    "        try:\n",
    "            mNode = self._retrieveNode(k1, k2)\n",
    "        except KeyError:   # no stored node, so make one\n",
    "            k = k1 + largestPower2(k2-k1)\n",
    "            mNode = hash(self.mth(k1, k) + self.mth(k,k2))\n",
    "            self._storeNode(k1, k2, mNode)\n",
    "        return mNode\n",
    "\n",
    "    def auditPath(self, m, n=None):\n",
    "        \"\"\" return a list of hash values for entry d(m) that proves\n",
    "            that d(m) is contained in the nth root hash with 0 <= m < n\n",
    "        \"\"\"\n",
    "        if not n: n = self.size\n",
    "        def _auditPath(m, k1, k2):\n",
    "            \"\"\" Recursively collect audit path \"\"\"\n",
    "            if (k2-k1) == 1:\n",
    "                return [ ] # terminate with null list when range is a single node\n",
    "            k = k1 + largestPower2(k2-k1)\n",
    "            if m < k:\n",
    "                path = _auditPath(m, k1, k) + [self.mth(k,k2),]\n",
    "            else:\n",
    "                path = _auditPath(m, k, k2) + [self.mth(k1,k),]\n",
    "            return path\n",
    "        \n",
    "        return _auditPath(m, 0, n)\n",
    "\n",
    "    def validPath(self, m, n, leaf_hash, root_hash, audit_path):\n",
    "        \"\"\" Test if leaf_hash is contained under a root_hash\n",
    "            as demonstrated by the audit_path \"\"\"\n",
    "        \n",
    "        def _hashAuditPath(m, k1, k2, i):\n",
    "            \"\"\" Recursively calculate hash value \"\"\"\n",
    "            if len(audit_path) == i:\n",
    "                return leaf_hash\n",
    "            k = k1 + largestPower2(k2-k1)\n",
    "            ithAuditNode = audit_path[len(audit_path) - 1 - i]\n",
    "            if m < k:\n",
    "                hv = hash( _hashAuditPath(m, k1, k, i+1) + ithAuditNode )\n",
    "            else:\n",
    "                hv = hash(ithAuditNode + _hashAuditPath(m, k, k2, i+1) )\n",
    "            return hv\n",
    "           \n",
    "        hv = _hashAuditPath(m, 0, n, 0)        \n",
    "        return hv == root_hash\n",
    "    \n",
    "    def rootHash(self, n=None):\n",
    "        \"\"\" Root hash of tree for nth root \"\"\"\n",
    "        if not n: n = self.size\n",
    "        if n > 0:\n",
    "            return self.mth(0, n)\n",
    "        else:\n",
    "            return hash('')  # empty tree is hash of null string\n",
    "            \n",
    "    def leafHash(self, m):\n",
    "        \"\"\" Leaf hash value for mth entry \"\"\"\n",
    "        return self.mth(m, m+1)\n",
    "            \n",
    "    def hash(self, input):\n",
    "        \"\"\" Wrapper for hash functions \"\"\"\n",
    "        return self._hashalg(input).digest()\n",
    "     \n",
    "    def __init__(self, HashAlg = sha256):\n",
    "        self._hashalg = HashAlg\n",
    "        self.size = 0 # number of leaf nodes in tree\n",
    "        self._inittree()   # create empty mht\n",
    "        \n",
    "    def __len__(self):\n",
    "        return self.size\n",
    "\n",
    "    # Overload the following for persistant trees\n",
    "    def _inittree(self):\n",
    "        self.hashtree = {} \n",
    "        \n",
    "    def _retrieveNode(self, k1, k2):\n",
    "        return self.hashtree[(k1,k2)]\n",
    "    \n",
    "    def _storeNode(self, k1, k2, mNode):\n",
    "        # leaf and non-leaf nodes in the same dictionary indexed by range tuple\n",
    "        assert k1 < k2 <= self.size\n",
    "        self.hashtree[(k1,k2)] = mNode\n",
    "        \n",
    "def largestPower2(n):\n",
    "    \"\"\" Return the largest power of 2 less than n \"\"\"\n",
    "    lp2 = 1\n",
    "    while lp2 < n :\n",
    "        lp2 = lp2 << 1\n",
    "    return lp2 >> 1\n"
   ]
  },
  {
   "cell_type": "code",
   "execution_count": 145,
   "metadata": {},
   "outputs": [
    {
     "name": "stdout",
     "output_type": "stream",
     "text": [
      "272\n",
      "A2N7I0331X72Z7\n",
      "41\n",
      "71\n",
      "90\n",
      "113\n",
      "122\n",
      "141\n",
      "163\n",
      "191\n",
      "230\n",
      "253\n",
      "264\n",
      "292\n",
      "303\n",
      "336\n",
      "342\n",
      "361\n",
      "397\n",
      "419\n",
      "422\n",
      "464\n",
      "483\n",
      "517\n",
      "535\n",
      "551\n",
      "569\n",
      "598\n",
      "607\n",
      "633\n",
      "641\n",
      "663\n",
      "685\n",
      "702\n",
      "735\n",
      "756\n",
      "767\n",
      "795\n",
      "812\n",
      "835\n",
      "857\n",
      "866\n",
      "893\n",
      "920\n",
      "943\n",
      "965\n",
      "988\n",
      "1002\n",
      "1021\n",
      "1046\n",
      "1063\n",
      "1088\n",
      "1129\n",
      "1149\n",
      "1194\n",
      "1210\n",
      "1235\n",
      "1246\n",
      "1272\n",
      "1297\n",
      "1304\n",
      "1321\n",
      "1346\n",
      "1368\n",
      "1396\n",
      "1416\n",
      "1453\n",
      "1461\n",
      "1497\n",
      "1503\n",
      "1531\n",
      "1546\n",
      "1560\n",
      "1597\n",
      "1619\n",
      "1630\n",
      "1645\n",
      "1665\n",
      "1693\n",
      "1701\n",
      "1721\n",
      "1756\n",
      "1761\n",
      "1793\n",
      "1811\n",
      "1838\n",
      "1852\n",
      "1865\n",
      "1915\n",
      "1936\n",
      "1944\n",
      "1982\n",
      "2025\n",
      "2052\n",
      "2066\n",
      "2099\n",
      "2116\n",
      "2120\n",
      "2152\n",
      "2165\n",
      "2187\n",
      "2201\n",
      "2241\n",
      "2267\n",
      "2293\n",
      "2305\n",
      "2326\n",
      "2343\n",
      "2399\n",
      "2405\n",
      "2423\n",
      "2450\n",
      "2469\n",
      "2484\n",
      "2511\n",
      "2529\n",
      "2556\n",
      "2569\n",
      "2599\n",
      "2617\n",
      "2630\n",
      "2649\n",
      "2672\n",
      "2688\n",
      "2708\n",
      "2720\n",
      "2769\n",
      "2785\n",
      "2811\n",
      "2858\n",
      "2869\n",
      "2896\n",
      "2913\n",
      "2924\n",
      "2951\n",
      "2971\n",
      "2997\n",
      "3002\n",
      "3025\n",
      "3052\n",
      "3086\n",
      "3110\n",
      "3120\n",
      "3149\n",
      "3176\n",
      "3180\n",
      "3213\n",
      "3232\n",
      "3240\n",
      "3270\n",
      "3292\n",
      "3306\n",
      "3350\n",
      "3364\n",
      "3395\n",
      "3419\n",
      "3434\n",
      "3457\n",
      "3477\n",
      "3496\n",
      "3502\n",
      "3530\n",
      "3567\n",
      "3584\n",
      "3603\n",
      "3627\n",
      "3642\n",
      "3671\n",
      "3682\n",
      "3713\n",
      "3726\n",
      "3750\n",
      "3779\n",
      "3782\n",
      "3819\n",
      "3824\n",
      "3858\n",
      "3877\n",
      "3904\n",
      "3951\n",
      "3975\n",
      "3989\n",
      "4019\n",
      "4031\n",
      "4051\n",
      "4069\n",
      "4093\n",
      "4117\n",
      "4137\n",
      "4150\n",
      "4175\n",
      "4212\n",
      "4231\n",
      "4251\n",
      "4263\n",
      "4308\n",
      "4327\n",
      "4341\n",
      "4379\n",
      "4395\n",
      "4410\n",
      "4437\n",
      "4452\n",
      "4472\n",
      "4499\n",
      "4511\n",
      "4526\n",
      "4550\n",
      "4561\n",
      "4588\n",
      "4604\n",
      "4625\n",
      "4649\n",
      "4673\n",
      "4682\n",
      "4712\n",
      "4738\n",
      "4743\n",
      "4781\n",
      "4800\n",
      "4831\n",
      "4859\n",
      "4860\n",
      "4898\n",
      "4919\n",
      "4936\n",
      "4942\n",
      "4978\n",
      "4980\n",
      "5017\n",
      "5032\n",
      "5043\n",
      "5068\n",
      "5090\n",
      "5115\n",
      "5132\n",
      "5172\n",
      "5194\n",
      "5215\n",
      "5251\n",
      "5260\n",
      "5289\n",
      "5306\n",
      "5338\n",
      "5359\n",
      "5370\n",
      "5385\n",
      "5418\n",
      "5452\n",
      "5477\n",
      "5499\n",
      "5521\n",
      "5550\n",
      "5566\n",
      "5610\n",
      "5623\n",
      "5642\n",
      "5671\n",
      "5696\n",
      "5707\n",
      "5731\n",
      "5743\n",
      "5777\n",
      "5788\n",
      "5807\n",
      "5823\n",
      "5846\n",
      "5861\n",
      "5881\n",
      "5915\n",
      "5929\n",
      "5953\n",
      "5966\n",
      "5992\n"
     ]
    }
   ],
   "source": [
    "print(dquality_weather[dquality_weather['wId']=='A14KDXENR3YF9'].shape[0])\n",
    "print(data_worker[0])\n",
    "\n",
    "for i in range(0,len(data_worker)):\n",
    "    if data_worker[i]=='A14KDXENR3YF9':\n",
    "        print(i)"
   ]
  },
  {
   "cell_type": "code",
   "execution_count": 150,
   "metadata": {},
   "outputs": [
    {
     "name": "stdout",
     "output_type": "stream",
     "text": [
      "MHT generation time: 10 0.008439983709999979\n",
      "MHT generation time: 20 0.01651898428000436\n",
      "MHT generation time: 30 0.025198404800001982\n",
      "MHT generation time: 40 0.033025478199996315\n",
      "MHT generation time: 50 0.041190386869996015\n",
      "MHT generation time: 60 0.04939366659999678\n",
      "MHT generation time: 70 0.05777107541999499\n",
      "MHT generation time: 80 0.06604848750999281\n",
      "MHT generation time: 90 0.07469860416999836\n",
      "MHT generation time: 100 0.08226710894000235\n",
      "MHT generation time: 110 0.09071282871000336\n",
      "MHT generation time: 120 0.0991141929299988\n",
      "MHT generation time: 130 0.10706296989999942\n",
      "MHT generation time: 140 0.11559667363999893\n",
      "MHT generation time: 150 0.12355406851000794\n",
      "MHT generation time: 160 0.1314533565800002\n",
      "MHT generation time: 170 0.13956320191000146\n",
      "MHT generation time: 180 0.1480713282800025\n",
      "MHT generation time: 190 0.15605447976999812\n",
      "MHT generation time: 200 0.16266456592999362\n",
      "MHT generation time: 210 0.17018281067000202\n",
      "MHT generation time: 220 0.17820270412000128\n"
     ]
    }
   ],
   "source": [
    "avg_numer=[]\n",
    "for k in range(10,230,10):\n",
    "    avg=0\n",
    "    for i in range(0,100):\n",
    "        begin_time = time.process_time()\n",
    "        MHT=MerkleHashTree()\n",
    "        for i in range(0,k):\n",
    "            tId=1\n",
    "            wId='A14KDXENR3YF9'\n",
    "            qId=dquality_weather[dquality_weather['wId']==wId].iloc[i,1]\n",
    "            answer=dquality_weather[dquality_weather['wId']==wId].iloc[i,2]\n",
    "            r=random_values[i]\n",
    "            content=str(tId)+str(wId)+str(qId)+str(answer)+str(r)\n",
    "            MHT.addLeaf(content)\n",
    "        root=MHT.rootHash()\n",
    "        end_time=time.process_time() - begin_time\n",
    "        avg=avg+end_time\n",
    "    print(\"MHT generation time:\",k,avg/100)\n",
    "    avg_numer.append(avg/100)\n",
    "\n"
   ]
  },
  {
   "cell_type": "code",
   "execution_count": 146,
   "metadata": {},
   "outputs": [
    {
     "name": "stdout",
     "output_type": "stream",
     "text": [
      "MHT generation time: 190 0.3173715703300002\n"
     ]
    }
   ],
   "source": [
    "for i in range(0,100):\n",
    "    begin_time = time.process_time()\n",
    "    MHT=MerkleHashTree()\n",
    "    for i in range(0,k):\n",
    "        tId=1\n",
    "        wId='A14KDXENR3YF9'\n",
    "        qId=dquality_weather[dquality_weather['wId']==wId].iloc[i,1]\n",
    "        answer=dquality_weather[dquality_weather['wId']==wId].iloc[i,2]\n",
    "        r=random_values[i]\n",
    "        content=str(tId)+str(wId)+str(qId)+str(answer)+str(r)\n",
    "        MHT.addLeaf(content)\n",
    "    root=MHT.rootHash()\n",
    "    end_time=time.process_time() - begin_time\n",
    "    avg=avg+end_time\n",
    "print(\"MHT generation time:\",k,avg/100)"
   ]
  },
  {
   "cell_type": "code",
   "execution_count": 158,
   "metadata": {},
   "outputs": [],
   "source": [
    "MHT=MerkleHashTree()\n",
    "for i in range(0,196):\n",
    "    tId=1\n",
    "    wId='A14KDXENR3YF9'\n",
    "    qId=dquality_weather[dquality_weather['wId']==wId].iloc[i,1]\n",
    "    answer=dquality_weather[dquality_weather['wId']==wId].iloc[i,2]\n",
    "    r=random_values[i]\n",
    "    content=str(tId)+str(wId)+str(qId)+str(answer)+str(r)\n",
    "    MHT.addLeaf(content)\n",
    "root=MHT.rootHash()"
   ]
  },
  {
   "cell_type": "code",
   "execution_count": 159,
   "metadata": {},
   "outputs": [
    {
     "name": "stdout",
     "output_type": "stream",
     "text": [
      "391\n"
     ]
    }
   ],
   "source": [
    "print(len(MHT.hashtree))"
   ]
  },
  {
   "cell_type": "code",
   "execution_count": 154,
   "metadata": {},
   "outputs": [
    {
     "ename": "IndexError",
     "evalue": "index 196 is out of bounds for axis 0 with size 196",
     "output_type": "error",
     "traceback": [
      "\u001b[0;31m---------------------------------------------------------------------------\u001b[0m",
      "\u001b[0;31mIndexError\u001b[0m                                Traceback (most recent call last)",
      "\u001b[1;32m/home/canyousee/CLionProjects/CIKM-exper/code.ipynb Cell 72'\u001b[0m in \u001b[0;36m<cell line: 2>\u001b[0;34m()\u001b[0m\n\u001b[1;32m      <a href='vscode-notebook-cell:/home/canyousee/CLionProjects/CIKM-exper/code.ipynb#ch0000084?line=2'>3</a>\u001b[0m tId\u001b[39m=\u001b[39m\u001b[39m1\u001b[39m\n\u001b[1;32m      <a href='vscode-notebook-cell:/home/canyousee/CLionProjects/CIKM-exper/code.ipynb#ch0000084?line=3'>4</a>\u001b[0m wId\u001b[39m=\u001b[39mdata_worker[\u001b[39m0\u001b[39m]\n\u001b[0;32m----> <a href='vscode-notebook-cell:/home/canyousee/CLionProjects/CIKM-exper/code.ipynb#ch0000084?line=4'>5</a>\u001b[0m qId\u001b[39m=\u001b[39mdquality_weather[dquality_weather[\u001b[39m'\u001b[39;49m\u001b[39mwId\u001b[39;49m\u001b[39m'\u001b[39;49m]\u001b[39m==\u001b[39;49mdata_worker[\u001b[39m0\u001b[39;49m]]\u001b[39m.\u001b[39;49miloc[i,\u001b[39m1\u001b[39;49m]\n\u001b[1;32m      <a href='vscode-notebook-cell:/home/canyousee/CLionProjects/CIKM-exper/code.ipynb#ch0000084?line=5'>6</a>\u001b[0m answer\u001b[39m=\u001b[39mdquality_weather[dquality_weather[\u001b[39m'\u001b[39m\u001b[39mwId\u001b[39m\u001b[39m'\u001b[39m]\u001b[39m==\u001b[39mdata_worker[\u001b[39m0\u001b[39m]]\u001b[39m.\u001b[39miloc[i,\u001b[39m2\u001b[39m]\n\u001b[1;32m      <a href='vscode-notebook-cell:/home/canyousee/CLionProjects/CIKM-exper/code.ipynb#ch0000084?line=6'>7</a>\u001b[0m r\u001b[39m=\u001b[39mrandom_values[i]\n",
      "File \u001b[0;32m~/.local/lib/python3.8/site-packages/pandas/core/indexing.py:960\u001b[0m, in \u001b[0;36m_LocationIndexer.__getitem__\u001b[0;34m(self, key)\u001b[0m\n\u001b[1;32m    <a href='file:///home/canyousee/.local/lib/python3.8/site-packages/pandas/core/indexing.py?line=957'>958</a>\u001b[0m     key \u001b[39m=\u001b[39m \u001b[39mtuple\u001b[39m(com\u001b[39m.\u001b[39mapply_if_callable(x, \u001b[39mself\u001b[39m\u001b[39m.\u001b[39mobj) \u001b[39mfor\u001b[39;00m x \u001b[39min\u001b[39;00m key)\n\u001b[1;32m    <a href='file:///home/canyousee/.local/lib/python3.8/site-packages/pandas/core/indexing.py?line=958'>959</a>\u001b[0m     \u001b[39mif\u001b[39;00m \u001b[39mself\u001b[39m\u001b[39m.\u001b[39m_is_scalar_access(key):\n\u001b[0;32m--> <a href='file:///home/canyousee/.local/lib/python3.8/site-packages/pandas/core/indexing.py?line=959'>960</a>\u001b[0m         \u001b[39mreturn\u001b[39;00m \u001b[39mself\u001b[39;49m\u001b[39m.\u001b[39;49mobj\u001b[39m.\u001b[39;49m_get_value(\u001b[39m*\u001b[39;49mkey, takeable\u001b[39m=\u001b[39;49m\u001b[39mself\u001b[39;49m\u001b[39m.\u001b[39;49m_takeable)\n\u001b[1;32m    <a href='file:///home/canyousee/.local/lib/python3.8/site-packages/pandas/core/indexing.py?line=960'>961</a>\u001b[0m     \u001b[39mreturn\u001b[39;00m \u001b[39mself\u001b[39m\u001b[39m.\u001b[39m_getitem_tuple(key)\n\u001b[1;32m    <a href='file:///home/canyousee/.local/lib/python3.8/site-packages/pandas/core/indexing.py?line=961'>962</a>\u001b[0m \u001b[39melse\u001b[39;00m:\n\u001b[1;32m    <a href='file:///home/canyousee/.local/lib/python3.8/site-packages/pandas/core/indexing.py?line=962'>963</a>\u001b[0m     \u001b[39m# we by definition only have the 0th axis\u001b[39;00m\n",
      "File \u001b[0;32m~/.local/lib/python3.8/site-packages/pandas/core/frame.py:3613\u001b[0m, in \u001b[0;36mDataFrame._get_value\u001b[0;34m(self, index, col, takeable)\u001b[0m\n\u001b[1;32m   <a href='file:///home/canyousee/.local/lib/python3.8/site-packages/pandas/core/frame.py?line=3610'>3611</a>\u001b[0m \u001b[39mif\u001b[39;00m takeable:\n\u001b[1;32m   <a href='file:///home/canyousee/.local/lib/python3.8/site-packages/pandas/core/frame.py?line=3611'>3612</a>\u001b[0m     series \u001b[39m=\u001b[39m \u001b[39mself\u001b[39m\u001b[39m.\u001b[39m_ixs(col, axis\u001b[39m=\u001b[39m\u001b[39m1\u001b[39m)\n\u001b[0;32m-> <a href='file:///home/canyousee/.local/lib/python3.8/site-packages/pandas/core/frame.py?line=3612'>3613</a>\u001b[0m     \u001b[39mreturn\u001b[39;00m series\u001b[39m.\u001b[39;49m_values[index]\n\u001b[1;32m   <a href='file:///home/canyousee/.local/lib/python3.8/site-packages/pandas/core/frame.py?line=3614'>3615</a>\u001b[0m series \u001b[39m=\u001b[39m \u001b[39mself\u001b[39m\u001b[39m.\u001b[39m_get_item_cache(col)\n\u001b[1;32m   <a href='file:///home/canyousee/.local/lib/python3.8/site-packages/pandas/core/frame.py?line=3615'>3616</a>\u001b[0m engine \u001b[39m=\u001b[39m \u001b[39mself\u001b[39m\u001b[39m.\u001b[39mindex\u001b[39m.\u001b[39m_engine\n",
      "\u001b[0;31mIndexError\u001b[0m: index 196 is out of bounds for axis 0 with size 196"
     ]
    }
   ],
   "source": [
    "MHT=MerkleHashTree()\n",
    "for i in range(0,k):\n",
    "    tId=1\n",
    "    wId=data_worker[0]\n",
    "    qId=dquality_weather[dquality_weather['wId']==data_worker[0]].iloc[i,1]\n",
    "    answer=dquality_weather[dquality_weather['wId']==data_worker[0]].iloc[i,2]\n",
    "    r=random_values[i]\n",
    "    content=str(tId)+str(wId)+str(qId)+str(answer)+str(r)\n",
    "    MHT.addLeaf(content)\n",
    "root1=MHT.rootHash()"
   ]
  },
  {
   "cell_type": "code",
   "execution_count": null,
   "metadata": {},
   "outputs": [],
   "source": []
  },
  {
   "cell_type": "code",
   "execution_count": 149,
   "metadata": {},
   "outputs": [
    {
     "name": "stdout",
     "output_type": "stream",
     "text": [
      "59\n"
     ]
    }
   ],
   "source": [
    "print(root.bit_length())"
   ]
  },
  {
   "cell_type": "code",
   "execution_count": 153,
   "metadata": {},
   "outputs": [
    {
     "name": "stdout",
     "output_type": "stream",
     "text": [
      "439\n"
     ]
    }
   ],
   "source": [
    "print(len(MHT.hashtree))"
   ]
  },
  {
   "cell_type": "code",
   "execution_count": 152,
   "metadata": {},
   "outputs": [],
   "source": [
    "import pandas as pd\n",
    "\n",
    "avgpd=pd.DataFrame(avg_numer)\n",
    "avgpd.to_csv(\"MHT_time.csv\")"
   ]
  },
  {
   "cell_type": "code",
   "execution_count": 130,
   "metadata": {},
   "outputs": [
    {
     "name": "stdout",
     "output_type": "stream",
     "text": [
      "59\n"
     ]
    }
   ],
   "source": [
    "\n",
    "print(root.bit_length())"
   ]
  },
  {
   "cell_type": "markdown",
   "metadata": {},
   "source": [
    "- QuaProve"
   ]
  },
  {
   "cell_type": "code",
   "execution_count": 97,
   "metadata": {},
   "outputs": [
    {
     "name": "stdout",
     "output_type": "stream",
     "text": [
      "{24: 0, 41: 0, 64: 3, 65: 1, 145: 1, 168: 1, 177: 4}\n"
     ]
    }
   ],
   "source": [
    "dtemp=dquality_weather[dquality_weather['wId']==data_worker[0]]\n",
    "quality={}\n",
    "gold_index=[]\n",
    "for i in range(0, dtemp.shape[0]):\n",
    "   if dtemp.iloc[i,1] in gold.keys():\n",
    "       gold_index.append(i)\n",
    "       if dtemp.iloc[i,2]!=dtemp.iloc[i,3]:\n",
    "\n",
    "           quality[i]=dtemp.iloc[i,2]\n",
    "\n",
    "print(quality)\n"
   ]
  },
  {
   "cell_type": "code",
   "execution_count": 116,
   "metadata": {},
   "outputs": [
    {
     "name": "stdout",
     "output_type": "stream",
     "text": [
      "39\n",
      "wId       A2N7I0331X72Z7\n",
      "qId             80056235\n",
      "answer                 2\n",
      "ground                 2\n",
      "time                  15\n",
      "Name: 70, dtype: object\n"
     ]
    }
   ],
   "source": [
    "print(len(gold_index))\n",
    "print(dtemp.iloc[2,])"
   ]
  },
  {
   "cell_type": "code",
   "execution_count": 81,
   "metadata": {},
   "outputs": [
    {
     "name": "stdout",
     "output_type": "stream",
     "text": [
      "dict_keys([81991018, 81178980, 81991119, 80050625, 80059939, 80053174, 81178003, 79186665, 81991459, 81215682, 81174487, 81212944, 81990560, 80050645, 79187165, 79194075, 80050108, 81211518, 79195022, 80059915, 79188095, 79195594, 81991269, 81991877, 81992349, 79188848, 80050271, 80058841, 80056235, 81993620, 81993695, 81172701, 81214513, 81213374, 81177151, 80059451, 81178007, 81176574, 79189295, 80052807, 79194346, 79189145, 80054061, 80050881, 80055852, 79197903, 80050754, 79194811, 80052225, 81213766, 81169556, 80057291, 80050144, 81176223, 81172069, 81993382, 79188512, 81176504, 81991330, 79187199])\n"
     ]
    }
   ],
   "source": [
    "print(gold.keys())"
   ]
  },
  {
   "cell_type": "code",
   "execution_count": 67,
   "metadata": {},
   "outputs": [
    {
     "name": "stdout",
     "output_type": "stream",
     "text": [
      "wId       A2N7I0331X72Z7\n",
      "qId             81993695\n",
      "answer                 0\n",
      "ground                 1\n",
      "time                   9\n",
      "Name: 716, dtype: object\n",
      "196\n"
     ]
    }
   ],
   "source": [
    "print(dtemp.iloc[24,:])\n",
    "print(dtemp.shape[0])"
   ]
  },
  {
   "cell_type": "code",
   "execution_count": 86,
   "metadata": {},
   "outputs": [],
   "source": [
    "MHT_Prover=MerkleHashTree()\n",
    "for i in range(0,dquality_weather[dquality_weather['wId']==data_worker[0]].shape[0]):\n",
    "    tId=1\n",
    "    wId=data_worker[0]\n",
    "    qId=dquality_weather[dquality_weather['wId']==data_worker[0]].iloc[i,1]\n",
    "    answer=dquality_weather[dquality_weather['wId']==data_worker[0]].iloc[i,2]\n",
    "    r=random_values[i]\n",
    "    content=str(tId)+str(wId)+str(qId)+str(answer)+str(r)\n",
    "    MHT_Prover.addLeaf(content)"
   ]
  },
  {
   "cell_type": "code",
   "execution_count": 87,
   "metadata": {},
   "outputs": [],
   "source": [
    "root=MHT_Prover.rootHash()"
   ]
  },
  {
   "cell_type": "code",
   "execution_count": 83,
   "metadata": {},
   "outputs": [],
   "source": [
    "gold_key=list(gold.keys())"
   ]
  },
  {
   "cell_type": "code",
   "execution_count": 84,
   "metadata": {},
   "outputs": [
    {
     "name": "stdout",
     "output_type": "stream",
     "text": [
      "[81991018, 81178980, 81991119, 80050625, 80059939, 80053174, 81178003, 79186665, 81991459, 81215682, 81174487, 81212944, 81990560, 80050645, 79187165, 79194075, 80050108, 81211518, 79195022, 80059915, 79188095, 79195594, 81991269, 81991877, 81992349, 79188848, 80050271, 80058841, 80056235, 81993620, 81993695, 81172701, 81214513, 81213374, 81177151, 80059451, 81178007, 81176574, 79189295, 80052807, 79194346, 79189145, 80054061, 80050881, 80055852, 79197903, 80050754, 79194811, 80052225, 81213766, 81169556, 80057291, 80050144, 81176223, 81172069, 81993382, 79188512, 81176504, 81991330, 79187199]\n"
     ]
    }
   ],
   "source": [
    "print(gold_key)"
   ]
  },
  {
   "cell_type": "code",
   "execution_count": null,
   "metadata": {},
   "outputs": [],
   "source": [
    "for i in gold.keys():\n",
    "    "
   ]
  },
  {
   "cell_type": "code",
   "execution_count": 91,
   "metadata": {},
   "outputs": [
    {
     "name": "stdout",
     "output_type": "stream",
     "text": [
      "avg  0 3.772980000746884e-06\n",
      "avg  1 4.572299999381357e-06\n",
      "avg  2 4.140689999871938e-06\n",
      "avg  3 5.052769999451812e-06\n",
      "avg  4 4.033989998220022e-06\n",
      "avg  5 3.6054600002444205e-06\n",
      "avg  6 4.0512099982947805e-06\n",
      "avg  7 3.671799999551695e-06\n",
      "avg  8 4.046789999847533e-06\n",
      "avg  9 3.6713199997961967e-06\n",
      "avg  10 3.6740400003054673e-06\n",
      "avg  11 5.635939998853701e-06\n",
      "avg  12 3.594340000176999e-06\n",
      "avg  13 4.117989999485872e-06\n",
      "avg  14 3.619670000034603e-06\n",
      "avg  15 4.076059997544235e-06\n",
      "avg  16 3.5445499995034877e-06\n",
      "avg  17 3.5541100010050286e-06\n",
      "avg  18 4.012420000094607e-06\n",
      "avg  19 3.5509699992530842e-06\n",
      "avg  20 4.663659998698222e-06\n",
      "avg  21 3.563329998428344e-06\n",
      "avg  22 5.130590000987922e-06\n",
      "avg  23 3.577989999996589e-06\n",
      "avg  24 3.62893000016129e-06\n",
      "avg  25 4.10834999911458e-06\n",
      "avg  26 3.659060001837133e-06\n",
      "avg  27 4.122889999393919e-06\n",
      "avg  28 3.67795999864029e-06\n",
      "avg  29 4.105799999365445e-06\n",
      "avg  30 3.657630001612233e-06\n",
      "avg  31 3.699750002112978e-06\n",
      "avg  32 4.154039999093584e-06\n",
      "avg  33 4.701459999409962e-06\n",
      "avg  34 4.1291900009809975e-06\n",
      "avg  35 3.640120000341085e-06\n",
      "avg  36 4.093449999515997e-06\n",
      "avg  37 3.6453699988214793e-06\n",
      "avg  38 3.6076999992928903e-06\n",
      "avg  39 4.098970001109592e-06\n",
      "avg  40 3.6245700007953017e-06\n",
      "avg  41 4.099979998102299e-06\n",
      "avg  42 3.568729999869902e-06\n",
      "avg  43 4.030570002555578e-06\n",
      "avg  44 9.695199999839587e-06\n",
      "avg  45 3.705839998531246e-06\n",
      "avg  46 4.167609998546595e-06\n",
      "avg  47 3.593610001075831e-06\n",
      "avg  48 4.087330000004385e-06\n",
      "avg  49 3.592269998478059e-06\n",
      "avg  50 4.0536699987114844e-06\n",
      "avg  51 3.5925499997802034e-06\n",
      "avg  52 3.6013000024581745e-06\n",
      "avg  53 4.068430000074841e-06\n",
      "avg  54 3.6567799995168572e-06\n",
      "avg  55 4.371859999707794e-06\n",
      "avg  56 3.667540000549252e-06\n",
      "avg  57 4.118190001065614e-06\n",
      "avg  58 3.6688699998421725e-06\n",
      "avg  59 3.6621999996100386e-06\n"
     ]
    }
   ],
   "source": [
    "total=[]\n",
    "total_time=0\n",
    "for i in range(0,len(gold_key)):\n",
    "    avg=0\n",
    "    for j in range(0,100):\n",
    "        begin_time = time.process_time()\n",
    "        MHT_Prover.auditPath(gold_key[i])\n",
    "        end_time=time.process_time() - begin_time\n",
    "        avg=avg+end_time\n",
    "    print(\"avg \", i, avg/100)\n",
    "    total_time=total_time+avg/100\n",
    "    total.append(total_time)\n",
    "\n",
    "    "
   ]
  },
  {
   "cell_type": "code",
   "execution_count": 95,
   "metadata": {},
   "outputs": [],
   "source": [
    "gold_prove=pd.DataFrame(total)\n",
    "\n",
    "gold_prove.to_csv(\"gold_prove.csv\")"
   ]
  },
  {
   "cell_type": "code",
   "execution_count": 56,
   "metadata": {},
   "outputs": [
    {
     "name": "stdout",
     "output_type": "stream",
     "text": [
      "-3732138939544187322\n"
     ]
    }
   ],
   "source": [
    "tId=1\n",
    "wId=data_worker[0]\n",
    "qId=dquality_weather[dquality_weather['wId']==data_worker[0]].iloc[24,1]\n",
    "answer=dquality_weather[dquality_weather['wId']==data_worker[0]].iloc[24,2]\n",
    "r=random_values[24]\n",
    "content=str(tId)+str(wId)+str(qId)+str(answer)+str(r)\n",
    "print(hash(content))"
   ]
  },
  {
   "cell_type": "code",
   "execution_count": 96,
   "metadata": {},
   "outputs": [
    {
     "name": "stdout",
     "output_type": "stream",
     "text": [
      "[1421026481530151929, 238681741509023490, -101752543788126096, 197499219539816104, 793958201448143382, 1075977341555477398, -1386310787184608935, -392674639052226405]\n"
     ]
    }
   ],
   "source": [
    "print(MHT_Prover.auditPath(6))"
   ]
  },
  {
   "cell_type": "markdown",
   "metadata": {},
   "source": [
    "- QuaVerify"
   ]
  },
  {
   "cell_type": "code",
   "execution_count": 262,
   "metadata": {},
   "outputs": [
    {
     "name": "stdout",
     "output_type": "stream",
     "text": [
      "True\n"
     ]
    }
   ],
   "source": [
    "print(MHT_Prover.validPath(6,len(MHT_Prover),MHT_Prover.mth(6,7),root,MHT_Prover.auditPath(6)))"
   ]
  },
  {
   "cell_type": "code",
   "execution_count": 107,
   "metadata": {},
   "outputs": [
    {
     "name": "stdout",
     "output_type": "stream",
     "text": [
      "wId       A2N7I0331X72Z7\n",
      "qId             80056235\n",
      "answer                 2\n",
      "ground                 2\n",
      "time                  15\n",
      "Name: 70, dtype: object\n"
     ]
    }
   ],
   "source": [
    "print(dtemp.iloc[gold_index[0],])"
   ]
  },
  {
   "cell_type": "code",
   "execution_count": 108,
   "metadata": {},
   "outputs": [
    {
     "name": "stdout",
     "output_type": "stream",
     "text": [
      "-6917982803310130531\n"
     ]
    }
   ],
   "source": [
    "i=0\n",
    "qId=dtemp.iloc[gold_index[i],1]\n",
    "answer=dtemp.iloc[gold_index[i],2]\n",
    "r=random_values[gold_index[i]]\n",
    "content=hash(str(tId)+str(wId)+str(qId)+str(answer)+str(r))\n",
    "print(content)"
   ]
  },
  {
   "cell_type": "code",
   "execution_count": 110,
   "metadata": {},
   "outputs": [
    {
     "data": {
      "text/plain": [
       "-6917982803310130531"
      ]
     },
     "execution_count": 110,
     "metadata": {},
     "output_type": "execute_result"
    }
   ],
   "source": [
    "MHT_Prover.mth(gold_index[i],gold_index[i]+1)"
   ]
  },
  {
   "cell_type": "code",
   "execution_count": 113,
   "metadata": {},
   "outputs": [],
   "source": [
    "proof_size=[]\n",
    "for i in range(0,len(gold_index)):\n",
    "    proof_size.append(MHT_Prover.auditPath(gold_index[i]))"
   ]
  },
  {
   "cell_type": "code",
   "execution_count": 114,
   "metadata": {},
   "outputs": [
    {
     "name": "stdout",
     "output_type": "stream",
     "text": [
      "avg  0 4.669826999986526e-05\n",
      "avg  1 4.478040000122974e-05\n",
      "avg  2 4.0056989998902285e-05\n",
      "avg  3 4.5707639997090156e-05\n",
      "avg  4 4.443749000159869e-05\n",
      "avg  5 4.392130000127281e-05\n",
      "avg  6 4.9453350000590036e-05\n",
      "avg  7 4.102812000041922e-05\n",
      "avg  8 4.266678000163893e-05\n",
      "avg  9 5.1147690002437684e-05\n",
      "avg  10 5.849380000398696e-05\n",
      "avg  11 5.874998000166442e-05\n",
      "avg  12 6.0079050000183544e-05\n",
      "avg  13 4.388207000147304e-05\n",
      "avg  14 4.022957999808341e-05\n",
      "avg  15 4.043011000135266e-05\n",
      "avg  16 4.0618520000919036e-05\n",
      "avg  17 4.321352000175693e-05\n",
      "avg  18 4.078701000054252e-05\n",
      "avg  19 4.2017849999353984e-05\n",
      "avg  20 4.3528679998416917e-05\n",
      "avg  21 4.0631609999763894e-05\n",
      "avg  22 4.14764599977957e-05\n",
      "avg  23 5.6022290000328215e-05\n",
      "avg  24 5.7977520003760216e-05\n",
      "avg  25 5.699142999873175e-05\n",
      "avg  26 5.109683999876324e-05\n",
      "avg  27 4.412144999946577e-05\n",
      "avg  28 4.000105999892867e-05\n",
      "avg  29 4.092478999979221e-05\n",
      "avg  30 4.026299999821958e-05\n",
      "avg  31 4.358379000251489e-05\n",
      "avg  32 4.068263000050365e-05\n",
      "avg  33 4.1693780001139655e-05\n",
      "avg  34 4.0646080001636165e-05\n",
      "avg  35 4.288919999993368e-05\n",
      "avg  36 4.097185999881958e-05\n",
      "avg  37 4.024421000110578e-05\n",
      "avg  38 3.7824130000956305e-05\n"
     ]
    }
   ],
   "source": [
    "total=[]\n",
    "total_time=0\n",
    "for i in range(0,len(gold_index)):\n",
    "    avg=0\n",
    "    for j in range(0,100):\n",
    "        begin_time = time.process_time()\n",
    "        tId=1\n",
    "        wId=data_worker[0]\n",
    "        qId=dtemp.iloc[gold_index[i],1]\n",
    "        answer=dtemp.iloc[gold_index[i],2]\n",
    "        r=random_values[gold_index[i]]\n",
    "        content=hash(str(tId)+str(wId)+str(qId)+str(answer)+str(r))\n",
    "        MHT_Prover.validPath(gold_index[i],len(MHT_Prover),content,root1,proof_size[i])\n",
    "        end_time=time.process_time() - begin_time\n",
    "        avg=avg+end_time\n",
    "    print(\"avg \", i, avg/100)\n",
    "    total_time=total_time+avg/100\n",
    "    total.append(total_time)"
   ]
  },
  {
   "cell_type": "code",
   "execution_count": 115,
   "metadata": {},
   "outputs": [],
   "source": [
    "gold_verify=pd.DataFrame(total)\n",
    "\n",
    "gold_verify.to_csv(\"gold_verify.csv\")"
   ]
  }
 ],
 "metadata": {
  "interpreter": {
   "hash": "916dbcbb3f70747c44a77c7bcd40155683ae19c65e1c03b4aa3499c5328201f1"
  },
  "kernelspec": {
   "display_name": "Python 3.8.10 64-bit",
   "language": "python",
   "name": "python3"
  },
  "language_info": {
   "codemirror_mode": {
    "name": "ipython",
    "version": 3
   },
   "file_extension": ".py",
   "mimetype": "text/x-python",
   "name": "python",
   "nbconvert_exporter": "python",
   "pygments_lexer": "ipython3",
   "version": "3.8.10"
  },
  "orig_nbformat": 4
 },
 "nbformat": 4,
 "nbformat_minor": 2
}
